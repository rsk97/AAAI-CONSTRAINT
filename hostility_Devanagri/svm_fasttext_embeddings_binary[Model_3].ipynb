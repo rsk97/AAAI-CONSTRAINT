{
 "cells": [
  {
   "cell_type": "code",
   "execution_count": 1,
   "metadata": {},
   "outputs": [
    {
     "data": {
      "text/plain": [
       "'combine meta data with text in keras'"
      ]
     },
     "execution_count": 1,
     "metadata": {},
     "output_type": "execute_result"
    }
   ],
   "source": [
    "# https://towardsdatascience.com/combining-numerical-and-text-features-in-deep-neural-networks-e91f0237eea4\n",
    "\"\"\"combine meta data with text in keras\"\"\""
   ]
  },
  {
   "cell_type": "code",
   "execution_count": 32,
   "metadata": {
    "scrolled": true
   },
   "outputs": [],
   "source": [
    "import spacy\n",
    "import gensim\n",
    "nlp = spacy.load('en')\n",
    "import pandas as pd\n",
    "import numpy as np\n",
    "import re\n",
    "import demoji"
   ]
  },
  {
   "cell_type": "code",
   "execution_count": 33,
   "metadata": {
    "scrolled": true
   },
   "outputs": [
    {
     "data": {
      "text/html": [
       "<div>\n",
       "<style scoped>\n",
       "    .dataframe tbody tr th:only-of-type {\n",
       "        vertical-align: middle;\n",
       "    }\n",
       "\n",
       "    .dataframe tbody tr th {\n",
       "        vertical-align: top;\n",
       "    }\n",
       "\n",
       "    .dataframe thead th {\n",
       "        text-align: right;\n",
       "    }\n",
       "</style>\n",
       "<table border=\"1\" class=\"dataframe\">\n",
       "  <thead>\n",
       "    <tr style=\"text-align: right;\">\n",
       "      <th></th>\n",
       "      <th>Unique ID</th>\n",
       "      <th>Post</th>\n",
       "      <th>Labels Set</th>\n",
       "    </tr>\n",
       "  </thead>\n",
       "  <tbody>\n",
       "    <tr>\n",
       "      <th>0</th>\n",
       "      <td>1</td>\n",
       "      <td>मेरे देश के हिन्दु बहुत निराले है। कुछ तो पक्क...</td>\n",
       "      <td>hate,offensive</td>\n",
       "    </tr>\n",
       "    <tr>\n",
       "      <th>1</th>\n",
       "      <td>2</td>\n",
       "      <td>सरकार हमेशा से किसानों की कमाई को बढ़ाने के लि...</td>\n",
       "      <td>non-hostile</td>\n",
       "    </tr>\n",
       "    <tr>\n",
       "      <th>2</th>\n",
       "      <td>3</td>\n",
       "      <td>सुशांत ने जो बिजनेस डील 9 जून को की थी, वो डील...</td>\n",
       "      <td>non-hostile</td>\n",
       "    </tr>\n",
       "    <tr>\n",
       "      <th>3</th>\n",
       "      <td>4</td>\n",
       "      <td>@prabhav218 साले जेएनयू छाप कमिने लोग हिन्दुओं...</td>\n",
       "      <td>defamation,offensive</td>\n",
       "    </tr>\n",
       "    <tr>\n",
       "      <th>4</th>\n",
       "      <td>5</td>\n",
       "      <td>#unlock4guidelines - अनलॉक-4 के लिए गाइडलाइन्स...</td>\n",
       "      <td>non-hostile</td>\n",
       "    </tr>\n",
       "  </tbody>\n",
       "</table>\n",
       "</div>"
      ],
      "text/plain": [
       "   Unique ID                                               Post  \\\n",
       "0          1  मेरे देश के हिन्दु बहुत निराले है। कुछ तो पक्क...   \n",
       "1          2  सरकार हमेशा से किसानों की कमाई को बढ़ाने के लि...   \n",
       "2          3  सुशांत ने जो बिजनेस डील 9 जून को की थी, वो डील...   \n",
       "3          4  @prabhav218 साले जेएनयू छाप कमिने लोग हिन्दुओं...   \n",
       "4          5  #unlock4guidelines - अनलॉक-4 के लिए गाइडलाइन्स...   \n",
       "\n",
       "             Labels Set  \n",
       "0        hate,offensive  \n",
       "1           non-hostile  \n",
       "2           non-hostile  \n",
       "3  defamation,offensive  \n",
       "4           non-hostile  "
      ]
     },
     "execution_count": 33,
     "metadata": {},
     "output_type": "execute_result"
    }
   ],
   "source": [
    "file_path = \"/home/ayush/Documents/personal/research/aaai/hostility_classification/data/constraint_Hindi_Train - Sheet1.csv\"\n",
    "data = pd.read_csv(file_path)\n",
    "data.head()"
   ]
  },
  {
   "cell_type": "code",
   "execution_count": 34,
   "metadata": {},
   "outputs": [
    {
     "data": {
      "text/plain": [
       "[1, 0, 0, 1, 0, 1, 0, 0, 0, 0]"
      ]
     },
     "execution_count": 34,
     "metadata": {},
     "output_type": "execute_result"
    }
   ],
   "source": [
    "# making labels\n",
    "y = []\n",
    "label_mapping = {'non-hostile':0, 'hate':1,'offensive':1,'fake':1,'defamation':1}\n",
    "for labels in data['Labels Set']:\n",
    "    temp = list(set([str(i)for i in [label_mapping[x] for x in labels.split(',')]]))\n",
    "    temp = \" \".join(temp)\n",
    "    #print(temp)\n",
    "    y.append(temp)\n",
    "y = [int(x) for x in y]\n",
    "y[:10]"
   ]
  },
  {
   "cell_type": "code",
   "execution_count": 35,
   "metadata": {},
   "outputs": [],
   "source": [
    "def hindi_tweet_cleaning(tweet):\n",
    "    tweet = re.sub(r\"(?:\\@|https?\\://)\\S+\", \"\", tweet)\n",
    "    pat = re.compile(r\"([',./@#(;_`:|\\-)!])\")\n",
    "    tweet = pat.sub(\"\", tweet)\n",
    "    tweet_split_word_list = tweet.split()\n",
    "    tweet_split_word_list_new = []\n",
    "    #print(tweet_split_word_list)\n",
    "    for word in tweet_split_word_list:\n",
    "        if not word.isalpha():\n",
    "            tweet_split_word_list_new.append(word)\n",
    "    tweet = \" \".join(tweet_split_word_list_new)\n",
    "    tweet = demoji.replace(tweet,\"\")\n",
    "    tweet = tweet.rstrip(\"\\n\")\n",
    "    tweet = re.sub('\\n', '', tweet)\n",
    "    tweet = tweet.replace('\\u200b', '')\n",
    "    tweet = tweet.replace('\\u200c', '')\n",
    "    tweet = tweet.replace('\\u200d', '')\n",
    "    return tweet"
   ]
  },
  {
   "cell_type": "code",
   "execution_count": 36,
   "metadata": {},
   "outputs": [],
   "source": [
    "all_tweets= []\n",
    "for tweet in data['Post']:\n",
    "    all_tweets.append(hindi_tweet_cleaning(tweet))"
   ]
  },
  {
   "cell_type": "code",
   "execution_count": 37,
   "metadata": {},
   "outputs": [],
   "source": [
    "embedding_loc = \"/home/ayush/Documents/personal/research/aaai/hostility_classification/fastText/cc.hi.300.bin\""
   ]
  },
  {
   "cell_type": "code",
   "execution_count": 8,
   "metadata": {},
   "outputs": [],
   "source": [
    "import fasttext\n",
    "import fasttext.util\n",
    "ft = fasttext.load_model(embedding_loc)"
   ]
  },
  {
   "cell_type": "code",
   "execution_count": 38,
   "metadata": {},
   "outputs": [],
   "source": [
    "X = []\n",
    "for tweet in all_tweets:\n",
    "    X.append(ft.get_sentence_vector(tweet))"
   ]
  },
  {
   "cell_type": "code",
   "execution_count": 39,
   "metadata": {},
   "outputs": [],
   "source": [
    "X_train = X[:5500]\n",
    "y_train = y[:5500]\n",
    "\n",
    "X_test = X[5500:]\n",
    "y_test = y[5500:]"
   ]
  },
  {
   "cell_type": "code",
   "execution_count": 40,
   "metadata": {},
   "outputs": [],
   "source": [
    "from sklearn.svm import SVC"
   ]
  },
  {
   "cell_type": "code",
   "execution_count": 41,
   "metadata": {},
   "outputs": [],
   "source": [
    "clf=SVC()"
   ]
  },
  {
   "cell_type": "code",
   "execution_count": 42,
   "metadata": {},
   "outputs": [
    {
     "data": {
      "text/plain": [
       "SVC()"
      ]
     },
     "execution_count": 42,
     "metadata": {},
     "output_type": "execute_result"
    }
   ],
   "source": [
    "clf.fit(X_train,y_train)"
   ]
  },
  {
   "cell_type": "code",
   "execution_count": 43,
   "metadata": {},
   "outputs": [],
   "source": [
    "predictions=clf.predict(X_test)"
   ]
  },
  {
   "cell_type": "code",
   "execution_count": 44,
   "metadata": {},
   "outputs": [],
   "source": [
    "from sklearn.metrics import accuracy_score"
   ]
  },
  {
   "cell_type": "code",
   "execution_count": 45,
   "metadata": {},
   "outputs": [
    {
     "data": {
      "text/plain": [
       "0.868421052631579"
      ]
     },
     "execution_count": 45,
     "metadata": {},
     "output_type": "execute_result"
    }
   ],
   "source": [
    "accuracy_score(y_test,predictions)"
   ]
  },
  {
   "cell_type": "code",
   "execution_count": 47,
   "metadata": {},
   "outputs": [
    {
     "name": "stdout",
     "output_type": "stream",
     "text": [
      "              precision    recall  f1-score   support\n",
      "\n",
      "           0       0.86      0.89      0.87       117\n",
      "           1       0.88      0.85      0.86       111\n",
      "\n",
      "    accuracy                           0.87       228\n",
      "   macro avg       0.87      0.87      0.87       228\n",
      "weighted avg       0.87      0.87      0.87       228\n",
      "\n"
     ]
    }
   ],
   "source": [
    "from sklearn import metrics\n",
    "print(metrics.classification_report(y_test, predictions))"
   ]
  },
  {
   "cell_type": "code",
   "execution_count": 22,
   "metadata": {},
   "outputs": [],
   "source": [
    "# testing data"
   ]
  },
  {
   "cell_type": "code",
   "execution_count": 23,
   "metadata": {},
   "outputs": [],
   "source": [
    "file_path = \"/home/ayush/Documents/personal/research/aaai/hostility_classification/data/Constraint_Hindi_Valid - Sheet1.csv\"\n",
    "data = pd.read_csv(file_path)"
   ]
  },
  {
   "cell_type": "code",
   "execution_count": 24,
   "metadata": {},
   "outputs": [
    {
     "data": {
      "text/plain": [
       "[0, 1, 0, 0, 0, 0, 0, 1, 0, 0]"
      ]
     },
     "execution_count": 24,
     "metadata": {},
     "output_type": "execute_result"
    }
   ],
   "source": [
    "# making labels\n",
    "y = []\n",
    "label_mapping = {'non-hostile':0, 'hate':1,'offensive':1,'fake':1,'defamation':1}\n",
    "for labels in data['Labels Set']:\n",
    "    temp = list(set([str(i)for i in [label_mapping[x] for x in labels.split(',')]]))\n",
    "    temp = \" \".join(temp)\n",
    "    #print(temp)\n",
    "    y.append(temp)\n",
    "y = [int(x) for x in y]\n",
    "y[:10]"
   ]
  },
  {
   "cell_type": "code",
   "execution_count": 25,
   "metadata": {},
   "outputs": [],
   "source": [
    "all_tweets= []\n",
    "for tweet in data['Post']:\n",
    "    all_tweets.append(hindi_tweet_cleaning(tweet))"
   ]
  },
  {
   "cell_type": "code",
   "execution_count": 26,
   "metadata": {},
   "outputs": [],
   "source": [
    "X = []\n",
    "for tweet in all_tweets:\n",
    "    X.append(ft.get_sentence_vector(tweet))"
   ]
  },
  {
   "cell_type": "code",
   "execution_count": 27,
   "metadata": {},
   "outputs": [],
   "source": [
    "predictions=clf.predict(X)"
   ]
  },
  {
   "cell_type": "code",
   "execution_count": 28,
   "metadata": {},
   "outputs": [
    {
     "data": {
      "text/plain": [
       "0.8680641183723797"
      ]
     },
     "execution_count": 28,
     "metadata": {},
     "output_type": "execute_result"
    }
   ],
   "source": [
    "accuracy_score(y,predictions)"
   ]
  },
  {
   "cell_type": "code",
   "execution_count": 31,
   "metadata": {},
   "outputs": [
    {
     "name": "stdout",
     "output_type": "stream",
     "text": [
      "              precision    recall  f1-score   support\n",
      "\n",
      "           0       0.86      0.90      0.88       435\n",
      "           1       0.88      0.83      0.85       376\n",
      "\n",
      "    accuracy                           0.87       811\n",
      "   macro avg       0.87      0.87      0.87       811\n",
      "weighted avg       0.87      0.87      0.87       811\n",
      "\n"
     ]
    }
   ],
   "source": [
    "from sklearn import metrics\n",
    "print(metrics.classification_report(y, predictions))"
   ]
  }
 ],
 "metadata": {
  "kernelspec": {
   "display_name": "personal",
   "language": "python",
   "name": "personal"
  },
  "language_info": {
   "codemirror_mode": {
    "name": "ipython",
    "version": 3
   },
   "file_extension": ".py",
   "mimetype": "text/x-python",
   "name": "python",
   "nbconvert_exporter": "python",
   "pygments_lexer": "ipython3",
   "version": "3.7.9"
  }
 },
 "nbformat": 4,
 "nbformat_minor": 4
}
