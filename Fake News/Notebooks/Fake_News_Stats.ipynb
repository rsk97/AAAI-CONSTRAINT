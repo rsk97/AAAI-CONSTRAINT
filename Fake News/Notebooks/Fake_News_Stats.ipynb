{
  "nbformat": 4,
  "nbformat_minor": 0,
  "metadata": {
    "colab": {
      "name": "Fake News Stats.ipynb",
      "provenance": [],
      "collapsed_sections": []
    },
    "kernelspec": {
      "name": "python3",
      "display_name": "Python 3"
    }
  },
  "cells": [
    {
      "cell_type": "code",
      "metadata": {
        "id": "JQ3mUWeQ0C3u",
        "outputId": "b0ffdb9d-6f3f-4f7b-acce-112f044c033b",
        "colab": {
          "base_uri": "https://localhost:8080/"
        }
      },
      "source": [
        "!pip install tweet-preprocessor\n",
        "\n",
        "import nltk\n",
        "nltk.download('punkt')"
      ],
      "execution_count": 7,
      "outputs": [
        {
          "output_type": "stream",
          "text": [
            "Collecting tweet-preprocessor\n",
            "  Downloading https://files.pythonhosted.org/packages/17/9d/71bd016a9edcef8860c607e531f30bd09b13103c7951ae73dd2bf174163c/tweet_preprocessor-0.6.0-py3-none-any.whl\n",
            "Installing collected packages: tweet-preprocessor\n",
            "Successfully installed tweet-preprocessor-0.6.0\n",
            "[nltk_data] Downloading package punkt to /root/nltk_data...\n",
            "[nltk_data]   Unzipping tokenizers/punkt.zip.\n"
          ],
          "name": "stdout"
        },
        {
          "output_type": "execute_result",
          "data": {
            "text/plain": [
              "True"
            ]
          },
          "metadata": {
            "tags": []
          },
          "execution_count": 7
        }
      ]
    },
    {
      "cell_type": "code",
      "metadata": {
        "id": "s4kZpZwVyy3x"
      },
      "source": [
        "import pandas as pd\n",
        "import numpy as np\n",
        "from numpy import load\n",
        "import matplotlib.pyplot as plt\n",
        "plt.style.use('ggplot')\n",
        "import preprocessor as p\n",
        "from nltk.tokenize import word_tokenize \n",
        "from numpy import save\n",
        "from sklearn import preprocessing\n",
        "\n",
        "from sklearn.metrics import accuracy_score, f1_score, precision_score, recall_score"
      ],
      "execution_count": 8,
      "outputs": []
    },
    {
      "cell_type": "code",
      "metadata": {
        "id": "bxO4Y8QJSQW4",
        "outputId": "437405e1-b521-420b-ece4-e7aa276a5fea",
        "colab": {
          "base_uri": "https://localhost:8080/"
        }
      },
      "source": [
        "from google.colab import drive\n",
        "drive.mount('/content/drive')"
      ],
      "execution_count": 9,
      "outputs": [
        {
          "output_type": "stream",
          "text": [
            "Drive already mounted at /content/drive; to attempt to forcibly remount, call drive.mount(\"/content/drive\", force_remount=True).\n"
          ],
          "name": "stdout"
        }
      ]
    },
    {
      "cell_type": "code",
      "metadata": {
        "id": "4Lsxmzv9yrab"
      },
      "source": [
        "train_path = '/content/drive/My Drive/AAAI CONSTRAINT/Fake News/Constraint_English_Train - Sheet1.csv'\n",
        "val_path = '/content/drive/My Drive/AAAI CONSTRAINT/Fake News/Constraint_English_Val - Sheet1.csv'"
      ],
      "execution_count": 10,
      "outputs": []
    },
    {
      "cell_type": "code",
      "metadata": {
        "id": "-yI0Xfo6yzqv",
        "outputId": "95487979-6e19-4caa-d202-b83fa53c959c",
        "colab": {
          "base_uri": "https://localhost:8080/",
          "height": 224
        }
      },
      "source": [
        "train_df = pd.read_csv(train_path)\n",
        "print(len(train_df))\n",
        "train_df.head()"
      ],
      "execution_count": 11,
      "outputs": [
        {
          "output_type": "stream",
          "text": [
            "6420\n"
          ],
          "name": "stdout"
        },
        {
          "output_type": "execute_result",
          "data": {
            "text/html": [
              "<div>\n",
              "<style scoped>\n",
              "    .dataframe tbody tr th:only-of-type {\n",
              "        vertical-align: middle;\n",
              "    }\n",
              "\n",
              "    .dataframe tbody tr th {\n",
              "        vertical-align: top;\n",
              "    }\n",
              "\n",
              "    .dataframe thead th {\n",
              "        text-align: right;\n",
              "    }\n",
              "</style>\n",
              "<table border=\"1\" class=\"dataframe\">\n",
              "  <thead>\n",
              "    <tr style=\"text-align: right;\">\n",
              "      <th></th>\n",
              "      <th>id</th>\n",
              "      <th>tweet</th>\n",
              "      <th>label</th>\n",
              "    </tr>\n",
              "  </thead>\n",
              "  <tbody>\n",
              "    <tr>\n",
              "      <th>0</th>\n",
              "      <td>1</td>\n",
              "      <td>The CDC currently reports 99031 deaths. In gen...</td>\n",
              "      <td>real</td>\n",
              "    </tr>\n",
              "    <tr>\n",
              "      <th>1</th>\n",
              "      <td>2</td>\n",
              "      <td>States reported 1121 deaths a small rise from ...</td>\n",
              "      <td>real</td>\n",
              "    </tr>\n",
              "    <tr>\n",
              "      <th>2</th>\n",
              "      <td>3</td>\n",
              "      <td>Politically Correct Woman (Almost) Uses Pandem...</td>\n",
              "      <td>fake</td>\n",
              "    </tr>\n",
              "    <tr>\n",
              "      <th>3</th>\n",
              "      <td>4</td>\n",
              "      <td>#IndiaFightsCorona: We have 1524 #COVID testin...</td>\n",
              "      <td>real</td>\n",
              "    </tr>\n",
              "    <tr>\n",
              "      <th>4</th>\n",
              "      <td>5</td>\n",
              "      <td>Populous states can generate large case counts...</td>\n",
              "      <td>real</td>\n",
              "    </tr>\n",
              "  </tbody>\n",
              "</table>\n",
              "</div>"
            ],
            "text/plain": [
              "   id                                              tweet label\n",
              "0   1  The CDC currently reports 99031 deaths. In gen...  real\n",
              "1   2  States reported 1121 deaths a small rise from ...  real\n",
              "2   3  Politically Correct Woman (Almost) Uses Pandem...  fake\n",
              "3   4  #IndiaFightsCorona: We have 1524 #COVID testin...  real\n",
              "4   5  Populous states can generate large case counts...  real"
            ]
          },
          "metadata": {
            "tags": []
          },
          "execution_count": 11
        }
      ]
    },
    {
      "cell_type": "code",
      "metadata": {
        "id": "HUVPnwBkzYIA",
        "outputId": "521c0645-b81c-4e7c-ce20-566ccc3e8d40",
        "colab": {
          "base_uri": "https://localhost:8080/",
          "height": 224
        }
      },
      "source": [
        "val_df = pd.read_csv(val_path)\n",
        "print(len(val_df))\n",
        "val_df.head()"
      ],
      "execution_count": 12,
      "outputs": [
        {
          "output_type": "stream",
          "text": [
            "2140\n"
          ],
          "name": "stdout"
        },
        {
          "output_type": "execute_result",
          "data": {
            "text/html": [
              "<div>\n",
              "<style scoped>\n",
              "    .dataframe tbody tr th:only-of-type {\n",
              "        vertical-align: middle;\n",
              "    }\n",
              "\n",
              "    .dataframe tbody tr th {\n",
              "        vertical-align: top;\n",
              "    }\n",
              "\n",
              "    .dataframe thead th {\n",
              "        text-align: right;\n",
              "    }\n",
              "</style>\n",
              "<table border=\"1\" class=\"dataframe\">\n",
              "  <thead>\n",
              "    <tr style=\"text-align: right;\">\n",
              "      <th></th>\n",
              "      <th>id</th>\n",
              "      <th>tweet</th>\n",
              "      <th>label</th>\n",
              "    </tr>\n",
              "  </thead>\n",
              "  <tbody>\n",
              "    <tr>\n",
              "      <th>0</th>\n",
              "      <td>1</td>\n",
              "      <td>Chinese converting to Islam after realising th...</td>\n",
              "      <td>fake</td>\n",
              "    </tr>\n",
              "    <tr>\n",
              "      <th>1</th>\n",
              "      <td>2</td>\n",
              "      <td>11 out of 13 people (from the Diamond Princess...</td>\n",
              "      <td>fake</td>\n",
              "    </tr>\n",
              "    <tr>\n",
              "      <th>2</th>\n",
              "      <td>3</td>\n",
              "      <td>COVID-19 Is Caused By A Bacterium, Not Virus A...</td>\n",
              "      <td>fake</td>\n",
              "    </tr>\n",
              "    <tr>\n",
              "      <th>3</th>\n",
              "      <td>4</td>\n",
              "      <td>Mike Pence in RNC speech praises Donald Trump’...</td>\n",
              "      <td>fake</td>\n",
              "    </tr>\n",
              "    <tr>\n",
              "      <th>4</th>\n",
              "      <td>5</td>\n",
              "      <td>6/10 Sky's @EdConwaySky explains the latest #C...</td>\n",
              "      <td>real</td>\n",
              "    </tr>\n",
              "  </tbody>\n",
              "</table>\n",
              "</div>"
            ],
            "text/plain": [
              "   id                                              tweet label\n",
              "0   1  Chinese converting to Islam after realising th...  fake\n",
              "1   2  11 out of 13 people (from the Diamond Princess...  fake\n",
              "2   3  COVID-19 Is Caused By A Bacterium, Not Virus A...  fake\n",
              "3   4  Mike Pence in RNC speech praises Donald Trump’...  fake\n",
              "4   5  6/10 Sky's @EdConwaySky explains the latest #C...  real"
            ]
          },
          "metadata": {
            "tags": []
          },
          "execution_count": 12
        }
      ]
    },
    {
      "cell_type": "code",
      "metadata": {
        "id": "wMSDS-7oy1Kb"
      },
      "source": [
        "# Function for Substituting Contractions\n",
        "\n",
        "def subst(s):\n",
        "    s = s.replace('theres','there is')\n",
        "    s = s.replace('didnt','did not')\n",
        "    s = s.replace(\"didn't\",'did not')\n",
        "    s = s.replace('havent','have not')\n",
        "    s = s.replace(\"aren't\",'are not')\n",
        "    s = s.replace(\"haven't\",'have not')\n",
        "    s = s.replace('hasnt','has not')\n",
        "    s = s.replace(\"hasn't\",'has not')\n",
        "    s = s.replace('couldnt','could not')\n",
        "    s = s.replace(\"couldn't\",'could not')\n",
        "    s = s.replace(\"We'd \",'We would ')\n",
        "    s = s.replace(\"we'd \",'we would ')\n",
        "    s = s.replace(\"I'd\",'I would')\n",
        "    s = s.replace('cant','can not')\n",
        "    s = s.replace(\"can't\", 'can not')\n",
        "    s = s.replace('cannot','can not')\n",
        "    s = s.replace('Im ','I am ')\n",
        "    s = s.replace(\"I've \",'I have ')\n",
        "    s = s.replace(\"i've \",'I have ')\n",
        "    s = s.replace(\"I'm \",'I am ')\n",
        "    s = s.replace(\"isnt\",'Is not')\n",
        "    s = s.replace(\"isn't\",'Is not')    \n",
        "    s = s.replace('wont','will not')\n",
        "    s = s.replace(\"won't\",'will not')\n",
        "    s = s.replace('dont','do not')\n",
        "    s = s.replace(\"don't\",'do not')\n",
        "    s = s.replace('doesnt','does not')\n",
        "    s = s.replace(\"doesn't\",'does not')\n",
        "    return s"
      ],
      "execution_count": 13,
      "outputs": []
    },
    {
      "cell_type": "code",
      "metadata": {
        "id": "zU1GtChbzQvi"
      },
      "source": [
        "# Substituting Contractions\n",
        "tweets = train_df.tweet.values\n",
        "val_tweets = val_df.tweet.values\n",
        "# print(tweets)\n",
        "for i in range(len(tweets)):\n",
        "  if tweets[i]:\n",
        "    tweets[i] = subst(tweets[i])\n",
        "for i in range(len(val_tweets)):\n",
        "  val_tweets[i] = subst(val_tweets[i])\n"
      ],
      "execution_count": 15,
      "outputs": []
    },
    {
      "cell_type": "code",
      "metadata": {
        "id": "Chzkom8rzTLK",
        "outputId": "669c6de9-c0a3-4f37-de16-e3585e81541e",
        "colab": {
          "base_uri": "https://localhost:8080/"
        }
      },
      "source": [
        "# Running Tweets through Tweet Preprocessor to substitute tags with MENTION, NUMBER, URL, EMOJI,... etc\n",
        "\n",
        "clean_tweets = [p.tokenize(tweet) for tweet in tweets ]\n",
        "clean_tweets = [x.replace('$','') for x in clean_tweets]\n",
        "val_clean_tweets = [p.tokenize(tweet) for tweet in val_tweets ]\n",
        "val_clean_tweets = [x.replace('$','') for x in val_clean_tweets]\n",
        "# print(clean_tweets)\n",
        "\n",
        "tokens = [word_tokenize(tweet) for tweet in clean_tweets]\n",
        "val_tokens = [word_tokenize(tweet) for tweet in val_clean_tweets]\n",
        "print(tokens[:20])"
      ],
      "execution_count": 16,
      "outputs": [
        {
          "output_type": "stream",
          "text": [
            "[['The', 'CDC', 'currently', 'reports', 'NUMBER', 'deaths', '.', 'In', 'general', 'the', 'discrepancies', 'in', 'death', 'counts', 'between', 'different', 'sources', 'are', 'small', 'and', 'explicable', '.', 'The', 'death', 'toll', 'stands', 'at', 'roughly', 'NUMBER', 'people', 'today', '.'], ['States', 'reported', 'NUMBER', 'deaths', 'a', 'small', 'rise', 'from', 'last', 'Tuesday', '.', 'Southern', 'states', 'reported', 'NUMBER', 'of', 'those', 'deaths', '.', 'URL'], ['Politically', 'Correct', 'Woman', '(', 'Almost', ')', 'Uses', 'Pandemic', 'as', 'Excuse', 'Not', 'to', 'Reuse', 'Plastic', 'Bag', 'URL', 'HASHTAG', 'HASHTAG'], ['HASHTAG', ':', 'We', 'have', 'NUMBER', 'HASHTAG', 'testing', 'laboratories', 'in', 'India', 'and', 'as', 'on', 'NUMBERth', 'August', 'NUMBER', 'NUMBER', 'tests', 'have', 'been', 'done', ':', 'MENTION', 'DG', 'MENTION', 'HASHTAG', 'HASHTAG', 'URL'], ['Populous', 'states', 'can', 'generate', 'large', 'case', 'counts', 'but', 'if', 'you', 'look', 'at', 'the', 'new', 'cases', 'per', 'million', 'today', 'NUMBER', 'smaller', 'states', 'are', 'showing', 'more', 'cases', 'per', 'million', 'than', 'California', 'or', 'Texas', ':', 'AL', 'AR', 'ID', 'KS', 'KY', 'LA', 'MS', 'NV', 'and', 'SC', '.', 'URL'], ['Covid', 'Act', 'Now', 'found', '``', 'on', 'average', 'each', 'person', 'in', 'Illinois', 'with', 'COVID-19', 'is', 'infecting', 'NUMBER', 'other', 'people', '.', 'Data', 'shows', 'that', 'the', 'infection', 'growth', 'rate', 'has', 'declined', 'over', 'time', 'this', 'factors', 'in', 'the', 'stay-at-home', 'order', 'and', 'other', 'restrictions', 'put', 'in', 'place', '.', \"''\", 'URL'], ['If', 'you', 'tested', 'positive', 'for', 'HASHTAG', 'and', 'have', 'no', 'symptoms', 'stay', 'home', 'and', 'away', 'from', 'other', 'people', '.', 'Learn', 'more', 'about', 'CDCs', 'recommendations', 'about', 'when', 'you', 'can', 'be', 'around', 'others', 'after', 'COVID-19', 'infection', ':', 'URL', '.', 'URL'], ['Obama', 'Calls', 'Trumps', 'Coronavirus', 'Response', 'A', 'Chaotic', 'Disaster', 'URL'], ['?', '?', '?', 'Clearly', ',', 'the', 'Obama', 'administration', 'did', 'not', 'leave', 'any', 'kind', 'of', 'game', 'plan', 'for', 'something', 'like', 'this.', '?', '?'], ['RetractionHydroxychloroquine', 'or', 'chloroquine', 'with', 'or', 'without', 'a', 'macrolide', 'for', 'treatment', 'of', 'COVID-19', ':', 'a', 'multinational', 'registry', 'analysis', '-', 'The', 'Lancet', 'URL'], ['Take', 'simple', 'daily', 'precautions', 'to', 'help', 'prevent', 'the', 'spread', 'of', 'respiratory', 'illnesses', 'like', 'HASHTAG', '.', 'Learn', 'how', 'to', 'protect', 'yourself', 'from', 'coronavirus', '(', 'COVID-19', ')', ':', 'URL', '.', 'URL'], ['The', 'NBA', 'is', 'poised', 'to', 'restart', 'this', 'month', '.', 'In', 'March', 'we', 'reported', 'on', 'how', 'the', 'Utah', 'Jazz', 'got', 'NUMBER', 'coronavirus', 'tests', 'in', 'a', 'matter', 'of', 'hours', 'at', 'a', 'time', 'when', 'U.S.', 'testing', 'was', 'sluggish', '.', 'URL', 'URL'], ['We', 'just', 'announced', 'that', 'the', 'first', 'participants', 'in', 'each', 'age', 'cohort', 'have', 'been', 'dosed', 'in', 'the', 'Phase', 'NUMBER', 'study', 'of', 'our', 'mRNA', 'vaccine', '(', 'mRNA-1273', ')', 'against', 'novel', 'coronavirus', '.', 'Read', 'more', ':', 'URL', 'HASHTAG', 'URL'], ['HASHTAG', 'HASHTAG', 'More', 'than', 'NUMBER', 'lakh', 'tests', 'done', 'for', 'NUMBERrd', 'successive', 'day', '.', 'Cumulative', 'testing', 'as', 'on', 'date', 'has', 'reached', 'NUMBER', '.', 'HASHTAG', 'Tests', 'Per', 'Million', '(', 'TPM', ')', 'cross', 'NUMBER', '.'], ['Protect', 'yourself', 'and', 'others', 'from', 'HASHTAG', 'when', 'using', 'public', 'transportation', '.', 'Practice', 'social', 'distancing', 'avoid', 'touching', 'surfaces', 'and', 'practice', 'hand', 'hygiene', '.', 'Learn', 'more', ':', 'URL', '.', 'URL'], ['As', 'of', 'NUMBER', 'August', 'NUMBER', 'NUMBERAM', 'till', 'now', 'there', 'have', 'been', 'a', 'total', 'of', 'NUMBER', 'HASHTAG', 'positive', 'cases', '&', 'amp', ';', 'NUMBER', 'HASHTAG', 'related', 'deaths', 'in', 'HASHTAG', 'HASHTAG', 'HASHTAG', 'HASHTAG', 'HASHTAG', 'HASHTAG', 'HASHTAG', 'HASHTAG', 'HASHTAG', 'HASHTAG', 'HASHTAG', 'URL'], ['Because', 'of', 'Donald', 'Trump', \"'s\", 'negligence', 'and', 'incompetence', ':', '-', 'More', 'than', 'NUMBER', 'people', 'have', 'died-', 'We', 'have', 'nearly', 'NUMBER', 'million', 'cases', 'of', 'COVID-19-', 'Over', 'NUMBER', 'million', 'Americans', 'are', 'out', 'of', 'work', 'And', 'yet', 'hes', 'patting', 'himself', 'on', 'the', 'back', '.', 'Unbelievable', '.'], ['HASHTAG', 'India', 'continues', 'to', 'scale', 'new', 'peaks', 'in', 'HASHTAG', 'tests', '!', 'More', 'than', 'NUMBER', 'lakh', 'samples', 'tested', 'daily', 'for', 'NUMBER', 'consecutive', 'days', '.', 'No', 'other', 'country', 'has', 'achieved', 'these', 'levels', 'of', 'very', 'high', 'daily', 'testing', '.', 'MENTION', 'MENTION', 'MENTION', 'MENTION', 'MENTION'], ['We', 'just', 'announced', 'that', 'we', 'have', 'shipped', 'vials', 'of', 'mRNA-1273', 'the', 'Companys', 'vaccine', 'against', 'the', 'novel', 'coronavirus', 'to', 'the', 'NIH', 'to', 'be', 'used', 'in', 'the', 'planned', 'Phase', 'NUMBER', 'study', 'in', 'the', 'U.S.', 'URL', 'URL'], ['Multiple', 'Facebook', 'posts', 'claim', 'that', 'Aussies', 'will', 'be', 'fined', 'if', 'they', 'are', 'found', 'to', 'be', 'talking', 'about', 'conspiracies', 'to', 'do', 'with', '[', 'COVID-19', ']', '.', 'The', 'posts', 'included', 'a', 'screenshot', 'of', 'a', 'segment', 'from', 'an', 'Australian', 'breakfast', 'television', 'show', 'as', 'evidence', 'for', 'the', 'claim', '.']]\n"
          ],
          "name": "stdout"
        }
      ]
    },
    {
      "cell_type": "code",
      "metadata": {
        "id": "0816bCHy0BA6",
        "outputId": "3c76d385-c899-4102-95f4-a8df64309256",
        "colab": {
          "base_uri": "https://localhost:8080/"
        }
      },
      "source": [
        "len(tokens)"
      ],
      "execution_count": 18,
      "outputs": [
        {
          "output_type": "execute_result",
          "data": {
            "text/plain": [
              "6420"
            ]
          },
          "metadata": {
            "tags": []
          },
          "execution_count": 18
        }
      ]
    },
    {
      "cell_type": "code",
      "metadata": {
        "id": "2TgQ21S00lQy",
        "outputId": "a12a5b84-8165-4400-a24c-387f9620f6b4",
        "colab": {
          "base_uri": "https://localhost:8080/"
        }
      },
      "source": [
        "# Creating Labels for train_Y and val_Y\n",
        "labels = train_df.label.values\n",
        "val_labels = val_df.label.values\n",
        "print(labels[:20])\n",
        "train_Y = []\n",
        "val_Y = []\n",
        "for x in labels:\n",
        "  if x == 'real':\n",
        "    train_Y.append(1)\n",
        "  else:\n",
        "    train_Y.append(0)\n",
        "for x in val_labels:\n",
        "  if x == 'real':\n",
        "    val_Y.append(1)\n",
        "  else:\n",
        "    val_Y.append(0)"
      ],
      "execution_count": 19,
      "outputs": [
        {
          "output_type": "stream",
          "text": [
            "['real' 'real' 'fake' 'real' 'real' 'real' 'real' 'fake' 'fake' 'fake'\n",
            " 'real' 'fake' 'real' 'real' 'real' 'real' 'fake' 'real' 'real' 'fake']\n"
          ],
          "name": "stdout"
        }
      ]
    },
    {
      "cell_type": "code",
      "metadata": {
        "id": "Pfq1wId31bRG",
        "outputId": "268781a2-ef13-4443-af9a-5fdec87bfcdd",
        "colab": {
          "base_uri": "https://localhost:8080/"
        }
      },
      "source": [
        "# Tags calculated for statistics\n",
        "\n",
        "data = {}\n",
        "items = ['URL','MENTION','HASHTAG','RESERVED','EMOJI','SMILEY','NUMBER']\n",
        "data['0'] = {}\n",
        "data['1'] = {}\n",
        "for item in items:\n",
        "  data['0'][item] = []\n",
        "  data['1'][item] = []\n",
        "\n",
        "print()\n",
        "for i in range(len(clean_tweets)):\n",
        "  for item in items:\n",
        "    data[str(train_Y[i])][item].append(clean_tweets[i].count(item))\n",
        "print(data['0']['HASHTAG'][:100])\n",
        "print(data['1']['HASHTAG'][:100])\n",
        "\n",
        "print(np.mean(data['0']['HASHTAG']))\n",
        "print(len(data['0']['HASHTAG']),len(data['0']['HASHTAG'])-data['0']['HASHTAG'].count(0),len(data['0']['URL'])-data['0']['URL'].count(0),len(data['0']['EMOJI'])-data['0']['EMOJI'].count(0))\n",
        "\n",
        "print(np.mean(data['1']['HASHTAG']))\n",
        "print(len(data['1']['HASHTAG']),len(data['1']['HASHTAG'])-data['1']['HASHTAG'].count(0),len(data['1']['URL'])-data['1']['URL'].count(0),len(data['1']['EMOJI'])-data['1']['EMOJI'].count(0))\n"
      ],
      "execution_count": 20,
      "outputs": [
        {
          "output_type": "stream",
          "text": [
            "\n",
            "[2, 0, 0, 0, 0, 0, 0, 1, 1, 4, 0, 1, 0, 0, 0, 0, 0, 0, 0, 0, 0, 0, 5, 0, 4, 0, 0, 0, 0, 0, 0, 0, 0, 0, 0, 0, 0, 0, 0, 0, 0, 0, 0, 0, 5, 0, 0, 0, 1, 0, 0, 1, 0, 0, 0, 0, 0, 0, 3, 0, 0, 2, 0, 0, 0, 2, 2, 0, 1, 1, 0, 0, 0, 0, 0, 2, 0, 0, 0, 0, 0, 0, 0, 0, 0, 0, 0, 0, 0, 0, 0, 0, 0, 0, 0, 0, 0, 1, 5, 0]\n",
            "[0, 0, 4, 0, 0, 1, 1, 1, 3, 1, 13, 2, 0, 0, 1, 1, 0, 0, 2, 2, 0, 0, 1, 0, 1, 0, 2, 0, 0, 1, 4, 1, 1, 1, 11, 1, 1, 0, 3, 3, 12, 0, 0, 1, 0, 3, 1, 0, 3, 0, 0, 5, 3, 0, 1, 0, 0, 0, 0, 3, 2, 10, 1, 1, 4, 0, 3, 0, 0, 3, 2, 1, 1, 0, 6, 0, 2, 0, 0, 2, 0, 0, 1, 1, 0, 2, 1, 0, 0, 0, 4, 6, 2, 0, 0, 1, 0, 2, 1, 1]\n",
            "0.5091503267973856\n",
            "3060 573 1001 34\n",
            "1.0738095238095238\n",
            "3360 1714 2325 272\n"
          ],
          "name": "stdout"
        }
      ]
    },
    {
      "cell_type": "code",
      "metadata": {
        "id": "31zLCje2NaTJ",
        "outputId": "c228ec47-4af0-45af-e812-42f645048bdf",
        "colab": {
          "base_uri": "https://localhost:8080/"
        }
      },
      "source": [
        "# Total Stats of Tags\n",
        "stat = {}\n",
        "for item in items:\n",
        "  stat[item] = []\n",
        "\n",
        "  c0 = [x for x in data['0'][item] if x != 0]\n",
        "  c1 = [x for x in data['1'][item] if x != 0]\n",
        "  stat[item].append((len(c0),len\n",
        "  (data['0'][item]),np.mean(c0)))\n",
        "  stat[item].append((len(c1),len(data['1'][item]),np.mean(c1)))\n",
        "\n",
        "\n",
        "print(stat)"
      ],
      "execution_count": 22,
      "outputs": [
        {
          "output_type": "stream",
          "text": [
            "{'URL': [(1001, 3060, 1.2527472527472527), (2325, 3360, 1.3505376344086022)], 'MENTION': [(239, 3060, 2.410041841004184), (937, 3360, 1.7107790821771611)], 'HASHTAG': [(573, 3060, 2.719022687609075), (1714, 3360, 2.105017502917153)], 'RESERVED': [(19, 3060, 1.0), (245, 3360, 1.0)], 'EMOJI': [(34, 3060, 2.2058823529411766), (272, 3360, 2.6286764705882355)], 'SMILEY': [(3, 3060, 1.0), (2, 3360, 1.0)], 'NUMBER': [(657, 3060, 1.552511415525114), (1990, 3360, 2.812060301507538)]}\n"
          ],
          "name": "stdout"
        }
      ]
    },
    {
      "cell_type": "code",
      "metadata": {
        "id": "E27hWQ045WrB",
        "outputId": "2c68876a-ff3f-45b2-fdda-df83c7298593",
        "colab": {
          "base_uri": "https://localhost:8080/",
          "height": 316
        }
      },
      "source": [
        "#Graphs for Tags\n",
        "\n",
        "ind = np.arange(len(stat.keys()))\n",
        "width = 0.3\n",
        "\n",
        "fig = plt.figure()\n",
        "ax = fig.add_subplot(111)\n",
        "\n",
        "\n",
        "c0 = [stat[i][0][0] for i in stat]\n",
        "rects1 = ax.bar(ind, c0, width, )\n",
        "\n",
        "c1 = [stat[i][1][0] for i in stat]\n",
        "rects2 = ax.bar(ind+width, c1, width, )\n",
        "\n",
        "\n",
        "ax.set_ylabel('Count - Atleast 1 occurence')\n",
        "ax.set_xticks(ind+width)\n",
        "\n",
        "ax.set_xticklabels( tuple(stat.keys()) )\n",
        "ax.legend( (rects1[0], rects2[0]), ('Real (%d)'%stat['HASHTAG'][0][1],'Fake  (%d)'%stat['HASHTAG'][1][1]) )\n",
        "\n",
        "def autolabel(rects):\n",
        "    for rect in rects:\n",
        "        h = rect.get_height()\n",
        "        ax.text(rect.get_x()+rect.get_width()/2., 1.05*h, '%d'%int(h),\n",
        "                ha='center', va='bottom')\n",
        "        \n",
        "autolabel(rects1)\n",
        "autolabel(rects2)\n",
        "plt.xticks(rotation=60,ha='right')\n",
        "plt.show()"
      ],
      "execution_count": 23,
      "outputs": [
        {
          "output_type": "display_data",
          "data": {
            "image/png": "[encoded data removed]",
            "text/plain": [
              "<Figure size 432x288 with 1 Axes>"
            ]
          },
          "metadata": {
            "tags": []
          }
        }
      ]
    },
    {
      "cell_type": "code",
      "metadata": {
        "id": "uc0Hw6HUh_Ei",
        "outputId": "22f366da-0e78-455d-ee87-361567871bf0",
        "colab": {
          "base_uri": "https://localhost:8080/",
          "height": 316
        }
      },
      "source": [
        "#Graphs for Tags\n",
        "ind = np.arange(len(stat.keys()))\n",
        "width = 0.3\n",
        "\n",
        "fig = plt.figure()\n",
        "ax = fig.add_subplot(111)\n",
        "\n",
        "\n",
        "c0 = [stat[i][0][2] for i in stat]\n",
        "rects1 = ax.bar(ind, c0, width, )\n",
        "\n",
        "c1 = [stat[i][1][2] for i in stat]\n",
        "rects2 = ax.bar(ind+width, c1, width, )\n",
        "\n",
        "\n",
        "ax.set_ylabel('Mean - Atleast 1 occurence')\n",
        "ax.set_xticks(ind+width)\n",
        "\n",
        "ax.set_xticklabels( tuple(stat.keys()) )\n",
        "ax.legend( (rects1[0], rects2[0]), ('Real (%d)'%stat['HASHTAG'][0][1],'Fake  (%d)'%stat['HASHTAG'][1][1]) )\n",
        "\n",
        "def autolabel(rects):\n",
        "    for rect in rects:\n",
        "        h = rect.get_height()\n",
        "        ax.text(rect.get_x()+rect.get_width()/2., 1.05*h, '%.2f'%(h),\n",
        "                ha='center', va='bottom')\n",
        "        \n",
        "autolabel(rects1)\n",
        "autolabel(rects2)\n",
        "plt.xticks(rotation=60,ha='right')\n",
        "plt.show()"
      ],
      "execution_count": 24,
      "outputs": [
        {
          "output_type": "display_data",
          "data": {
            "image/png": "[encoded data removed]",
            "text/plain": [
              "<Figure size 432x288 with 1 Axes>"
            ]
          },
          "metadata": {
            "tags": []
          }
        }
      ]
    },
    {
      "cell_type": "code",
      "metadata": {
        "id": "bcXHI4EKbSKn",
        "outputId": "87f27cb7-bae8-43dc-e565-bbe3c115bc8e",
        "colab": {
          "base_uri": "https://localhost:8080/"
        }
      },
      "source": [
        "tuple(stat.keys())"
      ],
      "execution_count": 25,
      "outputs": [
        {
          "output_type": "execute_result",
          "data": {
            "text/plain": [
              "('URL', 'MENTION', 'HASHTAG', 'RESERVED', 'EMOJI', 'SMILEY', 'NUMBER')"
            ]
          },
          "metadata": {
            "tags": []
          },
          "execution_count": 25
        }
      ]
    },
    {
      "cell_type": "code",
      "metadata": {
        "id": "PFbR5Q9AexY2"
      },
      "source": [
        "# Getting Data\n",
        "\n",
        "train_X = load('/content/drive/My Drive/Dataset-FakeNews/train_X.npy')\n",
        "train_X = np.array(train_X)\n",
        "val_X = load('/content/drive/My Drive/Dataset-FakeNews/val_X.npy')\n",
        "val_X = np.array(val_X)"
      ],
      "execution_count": 26,
      "outputs": []
    },
    {
      "cell_type": "code",
      "metadata": {
        "id": "FuQKirFzbUpb",
        "outputId": "f7b57a05-12c7-4279-b2cd-f74df13768d1",
        "colab": {
          "base_uri": "https://localhost:8080/"
        }
      },
      "source": [
        "# Append Tag info to Input Data 1/2\n",
        "\n",
        "data = {}\n",
        "items = ['URL','MENTION','HASHTAG','RESERVED','EMOJI','SMILEY','NUMBER']\n",
        "for item in items:\n",
        "  data[item] = []\n",
        "  data[item] = []\n",
        "\n",
        "print()\n",
        "for i in range(len(clean_tweets)):\n",
        "  for item in items:\n",
        "    data[item].append(clean_tweets[i].count(item))\n",
        "\n",
        "\n",
        "print(len(data['HASHTAG']))\n",
        "# print(data)\n",
        "\n",
        "arr = []\n",
        "\n",
        "for item in items:\n",
        "  arr.append(data[item])\n",
        "\n",
        "arr = np.array(arr)\n",
        "arr = arr.T\n",
        "print(arr.shape)"
      ],
      "execution_count": 28,
      "outputs": [
        {
          "output_type": "stream",
          "text": [
            "\n",
            "6420\n",
            "(6420, 7)\n"
          ],
          "name": "stdout"
        }
      ]
    },
    {
      "cell_type": "code",
      "metadata": {
        "id": "Dvwqglu2iwnR",
        "outputId": "8e971966-486a-4ea5-94de-132d2818a14f",
        "colab": {
          "base_uri": "https://localhost:8080/"
        }
      },
      "source": [
        "# Append Tag info to Input Data 2/2\n",
        "print(train_X.shape)\n",
        "print(arr.shape)\n",
        "train_X_new = np.concatenate((train_X,arr),axis=1)\n",
        "print(train_X_new.shape)\n",
        "print(train_X_new.T[300][:100])\n"
      ],
      "execution_count": 29,
      "outputs": [
        {
          "output_type": "stream",
          "text": [
            "(6420, 300)\n",
            "(6420, 7)\n",
            "(6420, 307)\n",
            "[0. 1. 1. 1. 1. 1. 2. 1. 0. 1. 2. 2. 2. 0. 2. 1. 0. 0. 2. 0. 2. 0. 0. 0.\n",
            " 1. 1. 0. 0. 0. 2. 2. 0. 2. 0. 1. 0. 1. 0. 1. 0. 1. 0. 0. 2. 1. 1. 1. 0.\n",
            " 0. 1. 2. 1. 1. 0. 0. 1. 0. 1. 2. 0. 2. 2. 0. 0. 1. 0. 0. 0. 1. 0. 0. 2.\n",
            " 1. 0. 0. 0. 2. 0. 0. 0. 1. 0. 0. 0. 0. 0. 0. 0. 1. 1. 0. 2. 0. 1. 0. 0.\n",
            " 1. 0. 0. 0.]\n"
          ],
          "name": "stdout"
        }
      ]
    },
    {
      "cell_type": "code",
      "metadata": {
        "id": "l75JUVflehGz",
        "outputId": "914f8364-4e2c-4576-ce22-ee30d8841ae8",
        "colab": {
          "base_uri": "https://localhost:8080/"
        }
      },
      "source": [
        "# Append Tag info to Input Data 1/2\n",
        "val_data = {}\n",
        "items = ['URL','MENTION','HASHTAG','RESERVED','EMOJI','SMILEY','NUMBER']\n",
        "for item in items:\n",
        "  val_data[item] = []\n",
        "  val_data[item] = []\n",
        "\n",
        "print()\n",
        "for i in range(len(val_clean_tweets)):\n",
        "  for item in items:\n",
        "    val_data[item].append(val_clean_tweets[i].count(item))\n",
        "\n",
        "\n",
        "print(len(val_data['HASHTAG']))\n",
        "# print(val_data)\n",
        "\n",
        "val_arr = []\n",
        "\n",
        "for item in items:\n",
        "  val_arr.append(val_data[item])\n",
        "\n",
        "val_arr = np.array(val_arr)\n",
        "val_arr = val_arr.T\n",
        "print(val_arr.shape)"
      ],
      "execution_count": 30,
      "outputs": [
        {
          "output_type": "stream",
          "text": [
            "\n",
            "2140\n",
            "(2140, 7)\n"
          ],
          "name": "stdout"
        }
      ]
    },
    {
      "cell_type": "code",
      "metadata": {
        "id": "S8icJDOri4Xl",
        "outputId": "69a8ddd4-2d61-4983-bd36-9e16f8f666b0",
        "colab": {
          "base_uri": "https://localhost:8080/"
        }
      },
      "source": [
        "# Append Tag info to Input Data 2/2\n",
        "print(val_X.shape)\n",
        "print(val_arr.shape)\n",
        "val_X_new = np.concatenate((val_X,val_arr),axis=1)\n",
        "print(val_X_new.shape)\n",
        "print(val_X_new.T[300][:100])\n"
      ],
      "execution_count": 31,
      "outputs": [
        {
          "output_type": "stream",
          "text": [
            "(2140, 300)\n",
            "(2140, 7)\n",
            "(2140, 307)\n",
            "[0. 0. 0. 2. 2. 0. 1. 0. 0. 0. 1. 1. 1. 0. 2. 2. 0. 0. 0. 0. 2. 1. 0. 2.\n",
            " 1. 1. 0. 1. 2. 2. 0. 1. 0. 0. 2. 0. 0. 2. 0. 2. 1. 1. 2. 0. 0. 1. 1. 0.\n",
            " 0. 2. 0. 0. 1. 0. 1. 1. 1. 1. 0. 1. 1. 2. 1. 1. 2. 1. 1. 0. 0. 2. 0. 0.\n",
            " 0. 2. 2. 2. 0. 2. 0. 0. 0. 0. 1. 0. 1. 2. 2. 0. 1. 1. 2. 0. 0. 0. 2. 0.\n",
            " 0. 1. 2. 0.]\n"
          ],
          "name": "stdout"
        }
      ]
    },
    {
      "cell_type": "code",
      "metadata": {
        "id": "fNpMo63Pi7hg"
      },
      "source": [
        "# Saving the New Input Data\n",
        "from numpy import save\n",
        "\n",
        "save('train_X_new.npy', train_X_new)\n",
        "save('val_X_new.npy', val_X_new)"
      ],
      "execution_count": null,
      "outputs": []
    },
    {
      "cell_type": "code",
      "metadata": {
        "id": "m9guAtIShBYE"
      },
      "source": [
        "import seaborn as sns"
      ],
      "execution_count": 32,
      "outputs": []
    },
    {
      "cell_type": "code",
      "metadata": {
        "id": "wE5KrnzVcPaS",
        "outputId": "0e7ac204-a492-498c-c14d-c74536bcfe3a",
        "colab": {
          "base_uri": "https://localhost:8080/",
          "height": 397
        }
      },
      "source": [
        "# Experiments with Length of Tweet\n",
        "\n",
        "tweets = train_df['tweet']\n",
        "train_len_arr = []\n",
        "for tweet in tweets:\n",
        "  train_len_arr.append(len(tweet))\n",
        "\n",
        "\n",
        "print(\"Train:\")\n",
        "print(\"mean = \",np.mean(train_len_arr))\n",
        "print(\"std  = \",np.std(train_len_arr))\n",
        "x = train_len_arr.copy()\n",
        "x.sort()\n",
        "print(x[-10:])\n",
        "\n",
        "sns.distplot(x[8:-8], hist=True,label=\"Train\")\n",
        "plt.legend(loc=\"upper right\")\n",
        "plt.show()"
      ],
      "execution_count": 33,
      "outputs": [
        {
          "output_type": "stream",
          "text": [
            "Train:\n",
            "mean =  181.67866043613708\n",
            "std  =  150.63387980132478\n",
            "[525, 545, 545, 581, 695, 880, 925, 2086, 5046, 8851]\n"
          ],
          "name": "stdout"
        },
        {
          "output_type": "stream",
          "text": [
            "/usr/local/lib/python3.6/dist-packages/seaborn/distributions.py:2551: FutureWarning: `distplot` is a deprecated function and will be removed in a future version. Please adapt your code to use either `displot` (a figure-level function with similar flexibility) or `histplot` (an axes-level function for histograms).\n",
            "  warnings.warn(msg, FutureWarning)\n"
          ],
          "name": "stderr"
        },
        {
          "output_type": "display_data",
          "data": {
            "image/png": "[encoded data removed]",
            "text/plain": [
              "<Figure size 432x288 with 1 Axes>"
            ]
          },
          "metadata": {
            "tags": []
          }
        }
      ]
    },
    {
      "cell_type": "code",
      "metadata": {
        "id": "9tvKgGGXl9mh",
        "outputId": "d46f207c-2503-4d75-fb9b-8b7f242ea274",
        "colab": {
          "base_uri": "https://localhost:8080/",
          "height": 394
        }
      },
      "source": [
        "# Experiments with Length of Tweet\n",
        "tweets = val_df['tweet']\n",
        "len_arr = []\n",
        "for tweet in tweets:\n",
        "  len_arr.append(len(tweet))\n",
        "\n",
        "print(\"Val:\")\n",
        "print(\"mean = \",np.mean(len_arr))\n",
        "print(\"std  = \",np.std(len_arr))\n",
        "\n",
        "x = len_arr.copy()\n",
        "x.sort()\n",
        "print(x[-10:])\n",
        "sns.distplot(x[5:-5], hist=True,label=\"Valid\")\n",
        "plt.legend(loc=\"upper right\")\n",
        "plt.show()"
      ],
      "execution_count": 34,
      "outputs": [
        {
          "output_type": "stream",
          "text": [
            "Val:\n",
            "mean =  179.71308411214955\n",
            "std  =  91.71451498379388\n",
            "[349, 364, 419, 445, 465, 520, 520, 633, 723, 2136]\n"
          ],
          "name": "stdout"
        },
        {
          "output_type": "stream",
          "text": [
            "/usr/local/lib/python3.6/dist-packages/seaborn/distributions.py:2551: FutureWarning: `distplot` is a deprecated function and will be removed in a future version. Please adapt your code to use either `displot` (a figure-level function with similar flexibility) or `histplot` (an axes-level function for histograms).\n",
            "  warnings.warn(msg, FutureWarning)\n"
          ],
          "name": "stderr"
        },
        {
          "output_type": "display_data",
          "data": {
            "image/png": "[encoded data removed]",
            "text/plain": [
              "<Figure size 432x288 with 1 Axes>"
            ]
          },
          "metadata": {
            "tags": []
          }
        }
      ]
    },
    {
      "cell_type": "code",
      "metadata": {
        "id": "AEN9jcXtSmqS",
        "outputId": "1f56e5cb-e492-4277-b2a6-542581a1e3c5",
        "colab": {
          "base_uri": "https://localhost:8080/"
        }
      },
      "source": [
        "x = [1,2,3,4,5,6,7,8,9,10]\n",
        "print(np.quantile(x,2/3))"
      ],
      "execution_count": 35,
      "outputs": [
        {
          "output_type": "stream",
          "text": [
            "7.0\n"
          ],
          "name": "stdout"
        }
      ]
    },
    {
      "cell_type": "code",
      "metadata": {
        "id": "wCqUOxClTi2h"
      },
      "source": [
        "train_X = load('/content/drive/My Drive/Dataset-FakeNews/train_X.npy')\n",
        "train_X_new = load('/content/drive/My Drive/Dataset-FakeNews/train_X_new.npy')\n",
        "train_Y = load('/content/drive/My Drive/Dataset-FakeNews/train_Y.npy')\n",
        "val_X = load('/content/drive/My Drive/Dataset-FakeNews/val_X.npy')\n",
        "val_X_new = load('/content/drive/My Drive/Dataset-FakeNews/val_X_new.npy')\n",
        "val_Y = load('/content/drive/My Drive/Dataset-FakeNews/val_Y.npy')"
      ],
      "execution_count": 36,
      "outputs": []
    },
    {
      "cell_type": "code",
      "metadata": {
        "id": "w4aMMdoYZiuS",
        "outputId": "8ccf3ed3-6e6a-407f-e365-c0b8c8bf1a87",
        "colab": {
          "base_uri": "https://localhost:8080/"
        }
      },
      "source": [
        "from sklearn.svm import SVC\n",
        "from sklearn.pipeline import make_pipeline\n",
        "from sklearn.preprocessing import StandardScaler\n",
        "from sklearn.metrics import classification_report\n",
        "\n",
        "clf = make_pipeline(StandardScaler(), SVC(gamma='auto'))\n",
        "clf.fit(train_X_new, train_Y)"
      ],
      "execution_count": 37,
      "outputs": [
        {
          "output_type": "execute_result",
          "data": {
            "text/plain": [
              "Pipeline(memory=None,\n",
              "         steps=[('standardscaler',\n",
              "                 StandardScaler(copy=True, with_mean=True, with_std=True)),\n",
              "                ('svc',\n",
              "                 SVC(C=1.0, break_ties=False, cache_size=200, class_weight=None,\n",
              "                     coef0=0.0, decision_function_shape='ovr', degree=3,\n",
              "                     gamma='auto', kernel='rbf', max_iter=-1, probability=False,\n",
              "                     random_state=None, shrinking=True, tol=0.001,\n",
              "                     verbose=False))],\n",
              "         verbose=False)"
            ]
          },
          "metadata": {
            "tags": []
          },
          "execution_count": 37
        }
      ]
    },
    {
      "cell_type": "code",
      "metadata": {
        "id": "ntBoXLuyx4E9"
      },
      "source": [
        "def print_metrices(pred,true):\n",
        "    # print(confusion_matrix(true,pred))\n",
        "    # print(classification_report(true,pred,))\n",
        "    print(\"Accuracy : \",accuracy_score(pred,true))\n",
        "    print(\"Precison : \",precision_score(pred,true, average = 'weighted'))\n",
        "    print(\"Recall : \",recall_score(pred,true,  average = 'weighted'))\n",
        "    print(\"F1 : \",f1_score(pred,true,  average = 'weighted'))"
      ],
      "execution_count": 38,
      "outputs": []
    },
    {
      "cell_type": "code",
      "metadata": {
        "id": "rs6LIe0BZ6Nb",
        "outputId": "d38fdd8e-5340-4f72-fc53-56b1f5d4c5f4",
        "colab": {
          "base_uri": "https://localhost:8080/"
        }
      },
      "source": [
        "print(\"Train Accuracy = \",clf.score(train_X_new,train_Y))\n",
        "print(\"Val Accuracy = \", clf.score(val_X_new,val_Y))"
      ],
      "execution_count": 39,
      "outputs": [
        {
          "output_type": "stream",
          "text": [
            "Train Accuracy =  0.9758566978193146\n",
            "Val Accuracy =  0.9355140186915888\n"
          ],
          "name": "stdout"
        }
      ]
    },
    {
      "cell_type": "code",
      "metadata": {
        "id": "f6fiDWN-Zol8"
      },
      "source": [
        "# pred_train = clf.predict(train_X_new)\n",
        "pred = clf.predict(val_X_new)\n",
        "y_true = train_Y\n"
      ],
      "execution_count": 40,
      "outputs": []
    },
    {
      "cell_type": "code",
      "metadata": {
        "id": "b4bDMF85yDTp",
        "outputId": "a62d2ff3-45e1-40ce-a112-420695893371",
        "colab": {
          "base_uri": "https://localhost:8080/"
        }
      },
      "source": [
        "\n",
        "y_true = val_Y\n",
        "y_pred = pred\n",
        "target_names = ['Real','Fake']\n",
        "print(classification_report(y_true, y_pred, target_names=target_names))\n",
        "\n",
        "print_metrices(y_pred,y_true)"
      ],
      "execution_count": 41,
      "outputs": [
        {
          "output_type": "stream",
          "text": [
            "              precision    recall  f1-score   support\n",
            "\n",
            "        Real       0.93      0.93      0.93      1020\n",
            "        Fake       0.94      0.94      0.94      1120\n",
            "\n",
            "    accuracy                           0.94      2140\n",
            "   macro avg       0.94      0.94      0.94      2140\n",
            "weighted avg       0.94      0.94      0.94      2140\n",
            "\n",
            "Accuracy :  0.9355140186915888\n",
            "Precison :  0.9355214141731458\n",
            "Recall :  0.9355140186915888\n",
            "F1 :  0.9355168977845817\n"
          ],
          "name": "stdout"
        }
      ]
    },
    {
      "cell_type": "code",
      "metadata": {
        "id": "oGcOAcvpZxZu"
      },
      "source": [
        "# Experiments with Quantiles\n",
        "no_of_quantiles = 3\n",
        "q_true = [ [] for x in range(no_of_quantiles) ]\n",
        "q_pred = [ [] for x in range(no_of_quantiles) ]\n",
        "\n",
        "\n",
        "\n",
        "for i in range(len(len_arr)):\n",
        "  if len_arr[i] < np.quantile(len_arr,1/3):\n",
        "    q_true[0].append(y_true[i])\n",
        "    q_pred[0].append(pred[i])\n",
        "  elif len_arr[i] < np.quantile(len_arr,2/3):\n",
        "    q_true[1].append(y_true[i])\n",
        "    q_pred[1].append(pred[i])\n",
        "  else:\n",
        "    q_true[2].append(y_true[i])\n",
        "    q_pred[2].append(pred[i])\n"
      ],
      "execution_count": 42,
      "outputs": []
    },
    {
      "cell_type": "code",
      "metadata": {
        "id": "vYCVPXUdbZb3",
        "outputId": "7b7b1324-ed05-4eb5-9eb3-156d1f403709",
        "colab": {
          "base_uri": "https://localhost:8080/"
        }
      },
      "source": [
        "from sklearn.metrics import classification_report\n",
        "for i in range(no_of_quantiles):\n",
        "  y_true = q_true[i]\n",
        "  y_pred = q_pred[i]\n",
        "  target_names = ['Real'+str(i),'Fake'+str(i)]\n",
        "  print(classification_report(y_true, y_pred, target_names=target_names))\n",
        "  print_metrices(y_pred,y_true)"
      ],
      "execution_count": 43,
      "outputs": [
        {
          "output_type": "stream",
          "text": [
            "              precision    recall  f1-score   support\n",
            "\n",
            "       Real0       0.96      0.98      0.97       574\n",
            "       Fake0       0.90      0.82      0.86       139\n",
            "\n",
            "    accuracy                           0.95       713\n",
            "   macro avg       0.93      0.90      0.91       713\n",
            "weighted avg       0.95      0.95      0.95       713\n",
            "\n",
            "Accuracy :  0.9481065918653576\n",
            "Precison :  0.9510047019536024\n",
            "Recall :  0.9481065918653576\n",
            "F1 :  0.9490889174759282\n",
            "              precision    recall  f1-score   support\n",
            "\n",
            "       Real1       0.91      0.93      0.92       289\n",
            "       Fake1       0.95      0.93      0.94       424\n",
            "\n",
            "    accuracy                           0.93       713\n",
            "   macro avg       0.93      0.93      0.93       713\n",
            "weighted avg       0.93      0.93      0.93       713\n",
            "\n",
            "Accuracy :  0.9326788218793829\n",
            "Precison :  0.9326432940656373\n",
            "Recall :  0.9326788218793829\n",
            "F1 :  0.9325398686919733\n",
            "              precision    recall  f1-score   support\n",
            "\n",
            "       Real2       0.89      0.76      0.82       157\n",
            "       Fake2       0.93      0.97      0.95       557\n",
            "\n",
            "    accuracy                           0.93       714\n",
            "   macro avg       0.91      0.87      0.89       714\n",
            "weighted avg       0.92      0.93      0.92       714\n",
            "\n",
            "Accuracy :  0.9257703081232493\n",
            "Precison :  0.9326995649773363\n",
            "Recall :  0.9257703081232493\n",
            "F1 :  0.9279529998763371\n"
          ],
          "name": "stdout"
        }
      ]
    },
    {
      "cell_type": "code",
      "metadata": {
        "id": "0clw4ro2ct7k",
        "outputId": "09fa0216-2927-4bae-cf9d-638fc097f67b",
        "colab": {
          "base_uri": "https://localhost:8080/"
        }
      },
      "source": [
        "# Experiments with Quantiles\n",
        "a = [[1,2],[3,4],[5,6],[7,8]]\n",
        "b = [9,10,11,12]\n",
        "print(np.array(a).shape)\n",
        "print(np.array(b).shape)\n",
        "c = [a[i] + [b[i]] for i in range(len(a))]\n",
        "print(c)\n",
        "print(np.array(c).shape)"
      ],
      "execution_count": 44,
      "outputs": [
        {
          "output_type": "stream",
          "text": [
            "(4, 2)\n",
            "(4,)\n",
            "[[1, 2, 9], [3, 4, 10], [5, 6, 11], [7, 8, 12]]\n",
            "(4, 3)\n"
          ],
          "name": "stdout"
        }
      ]
    },
    {
      "cell_type": "code",
      "metadata": {
        "id": "Orkb-OKgvzCL",
        "outputId": "081a488a-41ca-43eb-c348-53e949610478",
        "colab": {
          "base_uri": "https://localhost:8080/"
        }
      },
      "source": [
        "a = list(train_X_new)\n",
        "b = list(train_len_arr)\n",
        "print(np.array(a).shape)\n",
        "print(np.array(b).shape)\n",
        "c = [list(a[i]) + [b[i]] for i in range(len(a))]\n",
        "# print(c)\n",
        "train_X_newer = c"
      ],
      "execution_count": 45,
      "outputs": [
        {
          "output_type": "stream",
          "text": [
            "(6420, 307)\n",
            "(6420,)\n"
          ],
          "name": "stdout"
        }
      ]
    },
    {
      "cell_type": "code",
      "metadata": {
        "id": "M3Y8Ng0lxBuc",
        "outputId": "239410ad-d54f-4ef7-8333-4dc67bb2c18b",
        "colab": {
          "base_uri": "https://localhost:8080/"
        }
      },
      "source": [
        "a = list(val_X_new)\n",
        "b = list(len_arr)\n",
        "print(np.array(a).shape)\n",
        "print(np.array(b).shape)\n",
        "c = [list(a[i]) + [b[i]] for i in range(len(a))]\n",
        "# print(c)\n",
        "val_X_newer = c"
      ],
      "execution_count": 46,
      "outputs": [
        {
          "output_type": "stream",
          "text": [
            "(2140, 307)\n",
            "(2140,)\n"
          ],
          "name": "stdout"
        }
      ]
    },
    {
      "cell_type": "code",
      "metadata": {
        "id": "dEwDUsw5xgdB",
        "outputId": "a1c32058-a39a-4b7a-8e1e-b35d162838ed",
        "colab": {
          "base_uri": "https://localhost:8080/"
        }
      },
      "source": [
        "from sklearn.svm import SVC\n",
        "from sklearn.pipeline import make_pipeline\n",
        "from sklearn.preprocessing import StandardScaler\n",
        "\n",
        "clf = make_pipeline(StandardScaler(), SVC(gamma='auto'))\n",
        "clf.fit(train_X_new, train_Y)"
      ],
      "execution_count": 47,
      "outputs": [
        {
          "output_type": "execute_result",
          "data": {
            "text/plain": [
              "Pipeline(memory=None,\n",
              "         steps=[('standardscaler',\n",
              "                 StandardScaler(copy=True, with_mean=True, with_std=True)),\n",
              "                ('svc',\n",
              "                 SVC(C=1.0, break_ties=False, cache_size=200, class_weight=None,\n",
              "                     coef0=0.0, decision_function_shape='ovr', degree=3,\n",
              "                     gamma='auto', kernel='rbf', max_iter=-1, probability=False,\n",
              "                     random_state=None, shrinking=True, tol=0.001,\n",
              "                     verbose=False))],\n",
              "         verbose=False)"
            ]
          },
          "metadata": {
            "tags": []
          },
          "execution_count": 47
        }
      ]
    },
    {
      "cell_type": "code",
      "metadata": {
        "id": "5P92tMbhxkDE",
        "outputId": "a425c9be-8cd8-4bb7-de04-721d7e3345df",
        "colab": {
          "base_uri": "https://localhost:8080/"
        }
      },
      "source": [
        "print(\"Train Accuracy = \",clf.score(train_X_new,train_Y))\n",
        "print(\"Val Accuracy = \", clf.score(val_X_new,val_Y))"
      ],
      "execution_count": 48,
      "outputs": [
        {
          "output_type": "stream",
          "text": [
            "Train Accuracy =  0.9758566978193146\n",
            "Val Accuracy =  0.9355140186915888\n"
          ],
          "name": "stdout"
        }
      ]
    },
    {
      "cell_type": "code",
      "metadata": {
        "id": "ycVqP-fGxo8U"
      },
      "source": [
        "# pred_train = clf.predict(train_X_new)\n",
        "pred = clf.predict(val_X_new)\n",
        "y_true = val_Y\n"
      ],
      "execution_count": 49,
      "outputs": []
    },
    {
      "cell_type": "code",
      "metadata": {
        "id": "gtDYycLtyJu5",
        "outputId": "4df471aa-a5d0-479d-8b3b-b131d4bbbd72",
        "colab": {
          "base_uri": "https://localhost:8080/"
        }
      },
      "source": [
        "\n",
        "y_true = val_Y\n",
        "y_pred = pred\n",
        "target_names = ['Real','Fake']\n",
        "print(classification_report(y_true, y_pred, target_names=target_names))\n",
        "\n",
        "print_metrices(y_pred,y_true)"
      ],
      "execution_count": 50,
      "outputs": [
        {
          "output_type": "stream",
          "text": [
            "              precision    recall  f1-score   support\n",
            "\n",
            "        Real       0.93      0.93      0.93      1020\n",
            "        Fake       0.94      0.94      0.94      1120\n",
            "\n",
            "    accuracy                           0.94      2140\n",
            "   macro avg       0.94      0.94      0.94      2140\n",
            "weighted avg       0.94      0.94      0.94      2140\n",
            "\n",
            "Accuracy :  0.9355140186915888\n",
            "Precison :  0.9355214141731458\n",
            "Recall :  0.9355140186915888\n",
            "F1 :  0.9355168977845817\n"
          ],
          "name": "stdout"
        }
      ]
    },
    {
      "cell_type": "code",
      "metadata": {
        "id": "cN6ur1kXxq4k"
      },
      "source": [
        "no_of_quantiles = 3\n",
        "q_true = [ [] for x in range(no_of_quantiles) ]\n",
        "q_pred = [ [] for x in range(no_of_quantiles) ]\n",
        "\n",
        "\n",
        "\n",
        "for i in range(len(len_arr)):\n",
        "  if len_arr[i] < np.quantile(len_arr,1/3):\n",
        "    q_true[0].append(y_true[i])\n",
        "    q_pred[0].append(pred[i])\n",
        "  elif len_arr[i] < np.quantile(len_arr,2/3):\n",
        "    q_true[1].append(y_true[i])\n",
        "    q_pred[1].append(pred[i])\n",
        "  else:\n",
        "    q_true[2].append(y_true[i])\n",
        "    q_pred[2].append(pred[i])\n"
      ],
      "execution_count": null,
      "outputs": []
    },
    {
      "cell_type": "code",
      "metadata": {
        "id": "iZXLTjmfxvne",
        "outputId": "ad84d965-f01a-4553-b621-64aceae97544",
        "colab": {
          "base_uri": "https://localhost:8080/"
        }
      },
      "source": [
        "from sklearn.metrics import classification_report\n",
        "from sklearn.metrics import accuracy_score, f1_score, precision_score, recall_score\n",
        "for i in range(no_of_quantiles):\n",
        "  y_true = q_true[i]\n",
        "  y_pred = q_pred[i]\n",
        "  target_names = ['Real'+str(i),'Fake'+str(i)]\n",
        "  print(classification_report(y_true, y_pred, target_names=target_names))\n",
        "  print_metrices(y_pred,y_true)"
      ],
      "execution_count": null,
      "outputs": [
        {
          "output_type": "stream",
          "text": [
            "              precision    recall  f1-score   support\n",
            "\n",
            "       Real0       0.96      0.98      0.97       574\n",
            "       Fake0       0.91      0.82      0.86       139\n",
            "\n",
            "    accuracy                           0.95       713\n",
            "   macro avg       0.93      0.90      0.92       713\n",
            "weighted avg       0.95      0.95      0.95       713\n",
            "\n",
            "Accuracy :  0.9495091164095372\n",
            "Precison :  0.9526643659587433\n",
            "Recall :  0.9495091164095372\n",
            "F1 :  0.9505437278887321\n",
            "              precision    recall  f1-score   support\n",
            "\n",
            "       Real1       0.91      0.93      0.92       289\n",
            "       Fake1       0.95      0.93      0.94       424\n",
            "\n",
            "    accuracy                           0.93       713\n",
            "   macro avg       0.93      0.93      0.93       713\n",
            "weighted avg       0.93      0.93      0.93       713\n",
            "\n",
            "Accuracy :  0.9326788218793829\n",
            "Precison :  0.9326432940656373\n",
            "Recall :  0.9326788218793829\n",
            "F1 :  0.9325398686919733\n",
            "              precision    recall  f1-score   support\n",
            "\n",
            "       Real2       0.89      0.76      0.82       157\n",
            "       Fake2       0.93      0.97      0.95       557\n",
            "\n",
            "    accuracy                           0.93       714\n",
            "   macro avg       0.91      0.87      0.89       714\n",
            "weighted avg       0.92      0.93      0.92       714\n",
            "\n",
            "Accuracy :  0.9257703081232493\n",
            "Precison :  0.9326995649773363\n",
            "Recall :  0.9257703081232493\n",
            "F1 :  0.9279529998763371\n"
          ],
          "name": "stdout"
        }
      ]
    },
    {
      "cell_type": "code",
      "metadata": {
        "id": "UeDN3HtSx7p8"
      },
      "source": [
        ""
      ],
      "execution_count": null,
      "outputs": []
    }
  ]
}