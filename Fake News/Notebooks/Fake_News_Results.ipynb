{
  "nbformat": 4,
  "nbformat_minor": 0,
  "metadata": {
    "colab": {
      "name": "Fake News Results.ipynb",
      "provenance": []
    },
    "kernelspec": {
      "name": "python3",
      "display_name": "Python 3"
    }
  },
  "cells": [
    {
      "cell_type": "code",
      "metadata": {
        "id": "qdJKkQrye4H6",
        "outputId": "8723b5b3-583d-4b1e-cff5-9da3f251adc5",
        "colab": {
          "base_uri": "https://localhost:8080/",
          "height": 35
        }
      },
      "source": [
        "from numpy import load\n",
        "import pickle\n",
        "\n",
        "from google.colab import drive\n",
        "drive.mount('/content/drive')"
      ],
      "execution_count": 2,
      "outputs": [
        {
          "output_type": "stream",
          "text": [
            "Drive already mounted at /content/drive; to attempt to forcibly remount, call drive.mount(\"/content/drive\", force_remount=True).\n"
          ],
          "name": "stdout"
        }
      ]
    },
    {
      "cell_type": "code",
      "metadata": {
        "id": "KvI2618ke-IV",
        "outputId": "4353c30a-d8ba-4913-8b6b-b3fddbf267d5",
        "colab": {
          "base_uri": "https://localhost:8080/",
          "height": 126
        }
      },
      "source": [
        "train_X = load('/content/drive/My Drive/Dataset-FakeNews/train_X.npy')\n",
        "train_X_new = load('/content/drive/My Drive/Dataset-FakeNews/train_X_new.npy')\n",
        "train_Y = load('/content/drive/My Drive/Dataset-FakeNews/train_Y.npy')\n",
        "val_X = load('/content/drive/My Drive/Dataset-FakeNews/val_X.npy')\n",
        "val_X_new = load('/content/drive/My Drive/Dataset-FakeNews/val_X_new.npy')\n",
        "val_Y = load('/content/drive/My Drive/Dataset-FakeNews/val_Y.npy')\n",
        "\n",
        "print(train_X.shape)\n",
        "print(train_X_new.shape)\n",
        "print(train_Y.shape)\n",
        "print(val_X.shape)\n",
        "print(val_X_new.shape)\n",
        "print(val_Y.shape)"
      ],
      "execution_count": 6,
      "outputs": [
        {
          "output_type": "stream",
          "text": [
            "(6420, 300)\n",
            "(6420, 307)\n",
            "(6420,)\n",
            "(2140, 300)\n",
            "(2140, 307)\n",
            "(2140,)\n"
          ],
          "name": "stdout"
        }
      ]
    },
    {
      "cell_type": "code",
      "metadata": {
        "id": "GYRR_rw_ohcD",
        "outputId": "52a59ba6-f78a-4468-f4f5-59f3101bd34e",
        "colab": {
          "base_uri": "https://localhost:8080/",
          "height": 35
        }
      },
      "source": [
        "print(train_X_new[0][0])"
      ],
      "execution_count": 12,
      "outputs": [
        {
          "output_type": "stream",
          "text": [
            "0.07375335693359375\n"
          ],
          "name": "stdout"
        }
      ]
    },
    {
      "cell_type": "code",
      "metadata": {
        "id": "D2TliHdXkpTZ"
      },
      "source": [
        "import seaborn as sn\n",
        "import pandas as pd\n",
        "import matplotlib.pyplot as plt\n",
        "\n",
        "def plotCM(cMatrix, N,label = []):\n",
        "  df_cm = pd.DataFrame(cMatrix, range(N),range(N))\n",
        "#plt.figure(figsize = (8,8))\n",
        "  plt.figure(figsize = (10,7))  \n",
        "  cmap = sn.cm.rocket_r\n",
        "  if label:\n",
        "    sn.heatmap(df_cm.round(2), annot=True,fmt='g',cmap = cmap, xticklabels = label, yticklabels=label)\n",
        "  else:\n",
        "    sn.heatmap(df_cm.round(2), annot=True,fmt='g',cmap = cmap, )\n"
      ],
      "execution_count": 7,
      "outputs": []
    },
    {
      "cell_type": "code",
      "metadata": {
        "id": "uJM4rME5fzQ4"
      },
      "source": [
        "from sklearn.linear_model import LogisticRegression\n",
        "\n",
        "reg = LogisticRegression(max_iter=200).fit(train_X, train_Y,)"
      ],
      "execution_count": 20,
      "outputs": []
    },
    {
      "cell_type": "code",
      "metadata": {
        "id": "9B2yPWIMf6AM",
        "outputId": "2a4bd708-3d60-4425-a234-baa3a3e62578",
        "colab": {
          "base_uri": "https://localhost:8080/",
          "height": 53
        }
      },
      "source": [
        "print(\"Train Accuracy = \", reg.score(train_X, train_Y))\n",
        "print(\"Val Accuracy = \", reg.score(val_X, val_Y))\n",
        "filename = '/content/drive/My Drive/AAAI CONSTRAINT/Fake News/W2V-LR.pickle'\n",
        "pickle.dump(reg, open(filename, 'wb'))"
      ],
      "execution_count": 21,
      "outputs": [
        {
          "output_type": "stream",
          "text": [
            "Train Accuracy =  0.9098130841121496\n",
            "Val Accuracy =  0.9042056074766355\n"
          ],
          "name": "stdout"
        }
      ]
    },
    {
      "cell_type": "code",
      "metadata": {
        "id": "SCy_GSDVjby1",
        "outputId": "aca319d6-8502-4e38-8d5a-90a99819f428",
        "colab": {
          "base_uri": "https://localhost:8080/",
          "height": 428
        }
      },
      "source": [
        "pred = reg.predict(val_X)\n",
        "N = 2 # num_classes\n",
        "confMatrix = [ [0 for y in range(N)] for x in range(N)]\n",
        "\n",
        "for x,y in zip(val_Y,pred):\n",
        "  confMatrix[x][y] += 1\n",
        "\n",
        "plotCM(confMatrix,N,['real','fake'])"
      ],
      "execution_count": null,
      "outputs": [
        {
          "output_type": "display_data",
          "data": {
            "image/png": "[encoded data removed]",
            "text/plain": [
              "<Figure size 720x504 with 2 Axes>"
            ]
          },
          "metadata": {
            "tags": [],
            "needs_background": "light"
          }
        }
      ]
    },
    {
      "cell_type": "code",
      "metadata": {
        "id": "939aRB8sVWFG",
        "outputId": "66b49d11-b464-4f66-c9cf-093baf2b7f76",
        "colab": {
          "base_uri": "https://localhost:8080/",
          "height": 182
        }
      },
      "source": [
        "from sklearn.metrics import classification_report\n",
        "y_true = val_Y\n",
        "y_pred = pred\n",
        "target_names = ['Real','Fake']\n",
        "print(classification_report(y_true, y_pred, target_names=target_names))"
      ],
      "execution_count": null,
      "outputs": [
        {
          "output_type": "stream",
          "text": [
            "              precision    recall  f1-score   support\n",
            "\n",
            "        Real       0.91      0.89      0.90      1020\n",
            "        Fake       0.90      0.92      0.91      1120\n",
            "\n",
            "    accuracy                           0.90      2140\n",
            "   macro avg       0.90      0.90      0.90      2140\n",
            "weighted avg       0.90      0.90      0.90      2140\n",
            "\n"
          ],
          "name": "stdout"
        }
      ]
    },
    {
      "cell_type": "code",
      "metadata": {
        "id": "KI0WtO2Mf7mN",
        "outputId": "b3efb56c-61b2-4dd0-8952-d4b5f31f90af",
        "colab": {
          "base_uri": "https://localhost:8080/",
          "height": 201
        }
      },
      "source": [
        "from sklearn.pipeline import make_pipeline\n",
        "from sklearn.preprocessing import StandardScaler\n",
        "from sklearn.svm import SVC\n",
        "\n",
        "clf = make_pipeline(StandardScaler(), SVC(gamma='auto'))\n",
        "clf.fit(train_X, train_Y)"
      ],
      "execution_count": null,
      "outputs": [
        {
          "output_type": "execute_result",
          "data": {
            "text/plain": [
              "Pipeline(memory=None,\n",
              "         steps=[('standardscaler',\n",
              "                 StandardScaler(copy=True, with_mean=True, with_std=True)),\n",
              "                ('svc',\n",
              "                 SVC(C=1.0, break_ties=False, cache_size=200, class_weight=None,\n",
              "                     coef0=0.0, decision_function_shape='ovr', degree=3,\n",
              "                     gamma='auto', kernel='rbf', max_iter=-1, probability=False,\n",
              "                     random_state=None, shrinking=True, tol=0.001,\n",
              "                     verbose=False))],\n",
              "         verbose=False)"
            ]
          },
          "metadata": {
            "tags": []
          },
          "execution_count": 61
        }
      ]
    },
    {
      "cell_type": "code",
      "metadata": {
        "id": "t39etyL4f94_",
        "outputId": "5def9fa3-91a4-44ab-e0ca-37a2d38bc480",
        "colab": {
          "base_uri": "https://localhost:8080/",
          "height": 54
        }
      },
      "source": [
        "print(\"Train Accuracy = \",clf.score(train_X,train_Y))\n",
        "print(\"Val Accuracy = \", clf.score(val_X,val_Y))\n",
        "\n",
        "filename = '/content/drive/My Drive/AAAI CONSTRAINT/Fake News/W2V-SVM.pickle'\n",
        "pickle.dump(clf, open(filename, 'wb'))"
      ],
      "execution_count": null,
      "outputs": [
        {
          "output_type": "stream",
          "text": [
            "Train Accuracy =  0.9716510903426792\n",
            "Val Accuracy =  0.9271028037383178\n"
          ],
          "name": "stdout"
        }
      ]
    },
    {
      "cell_type": "code",
      "metadata": {
        "id": "REHsHg2XmaSI",
        "outputId": "524465d0-056f-4a22-95c4-518a89cd9cec",
        "colab": {
          "base_uri": "https://localhost:8080/",
          "height": 428
        }
      },
      "source": [
        "pred = clf.predict(val_X)\n",
        "N = 2 # num_classes\n",
        "confMatrix = [ [0 for y in range(N)] for x in range(N)]\n",
        "\n",
        "for x,y in zip(val_Y,pred):\n",
        "  confMatrix[x][y] += 1\n",
        "\n",
        "plotCM(confMatrix,N,['real','fake'])\n",
        "\n",
        "arr = []\n",
        "\n",
        "for i in range(len(pred)):\n",
        "  if pred[i] != val_Y[i]:\n",
        "    arr.append(i)"
      ],
      "execution_count": null,
      "outputs": [
        {
          "output_type": "display_data",
          "data": {
            "image/png": "[encoded data removed]",
            "text/plain": [
              "<Figure size 720x504 with 2 Axes>"
            ]
          },
          "metadata": {
            "tags": [],
            "needs_background": "light"
          }
        }
      ]
    },
    {
      "cell_type": "code",
      "metadata": {
        "id": "o8ZBF5zmVclL",
        "outputId": "eae2b87b-8568-4df0-eaa2-935a44a506e3",
        "colab": {
          "base_uri": "https://localhost:8080/",
          "height": 182
        }
      },
      "source": [
        "from sklearn.metrics import classification_report\n",
        "y_true = val_Y\n",
        "y_pred = pred\n",
        "target_names = ['Real','Fake']\n",
        "print(classification_report(y_true, y_pred, target_names=target_names))"
      ],
      "execution_count": null,
      "outputs": [
        {
          "output_type": "stream",
          "text": [
            "              precision    recall  f1-score   support\n",
            "\n",
            "        Real       0.92      0.93      0.92      1020\n",
            "        Fake       0.94      0.93      0.93      1120\n",
            "\n",
            "    accuracy                           0.93      2140\n",
            "   macro avg       0.93      0.93      0.93      2140\n",
            "weighted avg       0.93      0.93      0.93      2140\n",
            "\n"
          ],
          "name": "stdout"
        }
      ]
    },
    {
      "cell_type": "code",
      "metadata": {
        "id": "jo1y_BKUf_Lq",
        "outputId": "5a4c228c-48f7-4b17-99b1-c0f8d45920a9",
        "colab": {
          "base_uri": "https://localhost:8080/",
          "height": 164
        }
      },
      "source": [
        "from sklearn.ensemble import RandomForestClassifier\n",
        "\n",
        "clf = RandomForestClassifier(max_depth=11, random_state=1, n_estimators=100)\n",
        "clf.fit(train_X, train_Y)\n",
        "\n"
      ],
      "execution_count": null,
      "outputs": [
        {
          "output_type": "execute_result",
          "data": {
            "text/plain": [
              "RandomForestClassifier(bootstrap=True, ccp_alpha=0.0, class_weight=None,\n",
              "                       criterion='gini', max_depth=11, max_features='auto',\n",
              "                       max_leaf_nodes=None, max_samples=None,\n",
              "                       min_impurity_decrease=0.0, min_impurity_split=None,\n",
              "                       min_samples_leaf=1, min_samples_split=2,\n",
              "                       min_weight_fraction_leaf=0.0, n_estimators=100,\n",
              "                       n_jobs=None, oob_score=False, random_state=1, verbose=0,\n",
              "                       warm_start=False)"
            ]
          },
          "metadata": {
            "tags": []
          },
          "execution_count": 65
        }
      ]
    },
    {
      "cell_type": "code",
      "metadata": {
        "id": "igC8qELqgAho",
        "outputId": "6a25b080-e6ff-4a82-913c-13844a930371",
        "colab": {
          "base_uri": "https://localhost:8080/",
          "height": 54
        }
      },
      "source": [
        "print(\"Train Accuracy = \",clf.score(train_X,train_Y))\n",
        "print(\"Val Accuracy = \", clf.score(val_X,val_Y))\n",
        "\n",
        "filename = '/content/drive/My Drive/AAAI CONSTRAINT/Fake News/W2V-RF.pickle'\n",
        "pickle.dump(clf, open(filename, 'wb'))"
      ],
      "execution_count": null,
      "outputs": [
        {
          "output_type": "stream",
          "text": [
            "Train Accuracy =  0.9909657320872274\n",
            "Val Accuracy =  0.9004672897196262\n"
          ],
          "name": "stdout"
        }
      ]
    },
    {
      "cell_type": "code",
      "metadata": {
        "id": "kRBjZGSim5xk",
        "outputId": "8a6e49ef-5fd2-474b-d759-af21889a355e",
        "colab": {
          "base_uri": "https://localhost:8080/",
          "height": 428
        }
      },
      "source": [
        "pred = clf.predict(val_X)\n",
        "N = 2 # num_classes\n",
        "confMatrix = [ [0 for y in range(N)] for x in range(N)]\n",
        "\n",
        "for x,y in zip(val_Y,pred):\n",
        "  confMatrix[x][y] += 1\n",
        "\n",
        "plotCM(confMatrix,N,['real','fake'])"
      ],
      "execution_count": null,
      "outputs": [
        {
          "output_type": "display_data",
          "data": {
            "image/png": "[encoded data removed]",
            "text/plain": [
              "<Figure size 720x504 with 2 Axes>"
            ]
          },
          "metadata": {
            "tags": [],
            "needs_background": "light"
          }
        }
      ]
    },
    {
      "cell_type": "code",
      "metadata": {
        "id": "MRZ7U8FO4B95",
        "outputId": "c37526d4-1343-407a-b1c3-ae1e8f27cdef",
        "colab": {
          "base_uri": "https://localhost:8080/",
          "height": 182
        }
      },
      "source": [
        "from sklearn.metrics import classification_report\n",
        "y_true = val_Y\n",
        "y_pred = pred\n",
        "target_names = ['Real','Fake']\n",
        "print(classification_report(y_true, y_pred, target_names=target_names))"
      ],
      "execution_count": null,
      "outputs": [
        {
          "output_type": "stream",
          "text": [
            "              precision    recall  f1-score   support\n",
            "\n",
            "        Real       0.90      0.89      0.89      1020\n",
            "        Fake       0.90      0.91      0.91      1120\n",
            "\n",
            "    accuracy                           0.90      2140\n",
            "   macro avg       0.90      0.90      0.90      2140\n",
            "weighted avg       0.90      0.90      0.90      2140\n",
            "\n"
          ],
          "name": "stdout"
        }
      ]
    },
    {
      "cell_type": "code",
      "metadata": {
        "id": "jNbdSl8OFD7r"
      },
      "source": [
        "train_path = '/content/drive/My Drive/AAAI CONSTRAINT/Fake News/Constraint_English_Train - Sheet1.csv'\n",
        "val_path = '/content/drive/My Drive/AAAI CONSTRAINT/Fake News/Constraint_English_Val - Sheet1.csv'"
      ],
      "execution_count": null,
      "outputs": []
    },
    {
      "cell_type": "code",
      "metadata": {
        "id": "QRgzvW1MFpWP",
        "outputId": "736fe54c-fba5-44f8-f224-f55d9c8e2e6e",
        "colab": {
          "base_uri": "https://localhost:8080/",
          "height": 206
        }
      },
      "source": [
        "val_df = pd.read_csv(val_path)\n",
        "val_df.head()"
      ],
      "execution_count": null,
      "outputs": [
        {
          "output_type": "execute_result",
          "data": {
            "text/html": [
              "<div>\n",
              "<style scoped>\n",
              "    .dataframe tbody tr th:only-of-type {\n",
              "        vertical-align: middle;\n",
              "    }\n",
              "\n",
              "    .dataframe tbody tr th {\n",
              "        vertical-align: top;\n",
              "    }\n",
              "\n",
              "    .dataframe thead th {\n",
              "        text-align: right;\n",
              "    }\n",
              "</style>\n",
              "<table border=\"1\" class=\"dataframe\">\n",
              "  <thead>\n",
              "    <tr style=\"text-align: right;\">\n",
              "      <th></th>\n",
              "      <th>id</th>\n",
              "      <th>tweet</th>\n",
              "      <th>label</th>\n",
              "    </tr>\n",
              "  </thead>\n",
              "  <tbody>\n",
              "    <tr>\n",
              "      <th>0</th>\n",
              "      <td>1</td>\n",
              "      <td>Chinese converting to Islam after realising th...</td>\n",
              "      <td>fake</td>\n",
              "    </tr>\n",
              "    <tr>\n",
              "      <th>1</th>\n",
              "      <td>2</td>\n",
              "      <td>11 out of 13 people (from the Diamond Princess...</td>\n",
              "      <td>fake</td>\n",
              "    </tr>\n",
              "    <tr>\n",
              "      <th>2</th>\n",
              "      <td>3</td>\n",
              "      <td>COVID-19 Is Caused By A Bacterium, Not Virus A...</td>\n",
              "      <td>fake</td>\n",
              "    </tr>\n",
              "    <tr>\n",
              "      <th>3</th>\n",
              "      <td>4</td>\n",
              "      <td>Mike Pence in RNC speech praises Donald Trump’...</td>\n",
              "      <td>fake</td>\n",
              "    </tr>\n",
              "    <tr>\n",
              "      <th>4</th>\n",
              "      <td>5</td>\n",
              "      <td>6/10 Sky's @EdConwaySky explains the latest #C...</td>\n",
              "      <td>real</td>\n",
              "    </tr>\n",
              "  </tbody>\n",
              "</table>\n",
              "</div>"
            ],
            "text/plain": [
              "   id                                              tweet label\n",
              "0   1  Chinese converting to Islam after realising th...  fake\n",
              "1   2  11 out of 13 people (from the Diamond Princess...  fake\n",
              "2   3  COVID-19 Is Caused By A Bacterium, Not Virus A...  fake\n",
              "3   4  Mike Pence in RNC speech praises Donald Trump’...  fake\n",
              "4   5  6/10 Sky's @EdConwaySky explains the latest #C...  real"
            ]
          },
          "metadata": {
            "tags": []
          },
          "execution_count": 16
        }
      ]
    },
    {
      "cell_type": "code",
      "metadata": {
        "id": "rCdDYwW_FtKu",
        "outputId": "3d214fd5-8e05-4eee-aa1d-f0ab8b86c9a8",
        "colab": {
          "base_uri": "https://localhost:8080/",
          "height": 1000
        }
      },
      "source": [
        "mis = []\n",
        "for x in arr:\n",
        "  mis.append((val_df['label'][x],val_df['tweet'][x]))\n",
        "print(arr)\n",
        "for x in mis:\n",
        "  print(x[0], [x[1]])"
      ],
      "execution_count": null,
      "outputs": [
        {
          "output_type": "stream",
          "text": [
            "[13, 25, 28, 40, 57, 61, 73, 100, 138, 148, 153, 173, 175, 202, 223, 270, 291, 293, 295, 301, 309, 310, 356, 374, 377, 403, 438, 453, 458, 468, 488, 496, 531, 543, 548, 591, 594, 609, 613, 639, 661, 670, 676, 703, 717, 722, 724, 734, 738, 757, 763, 769, 791, 806, 827, 838, 852, 859, 886, 888, 898, 899, 920, 946, 956, 978, 993, 1002, 1018, 1020, 1047, 1051, 1061, 1063, 1073, 1088, 1099, 1129, 1152, 1158, 1185, 1191, 1213, 1218, 1242, 1243, 1249, 1255, 1263, 1288, 1312, 1317, 1356, 1375, 1382, 1395, 1400, 1417, 1435, 1440, 1448, 1507, 1511, 1518, 1531, 1540, 1542, 1573, 1582, 1586, 1591, 1627, 1628, 1685, 1727, 1735, 1739, 1757, 1761, 1769, 1772, 1790, 1795, 1799, 1820, 1842, 1848, 1866, 1870, 1896, 1899, 1905, 1916, 1922, 1925, 1930, 1936, 1937, 1942, 1945, 1966, 1979, 2004, 2017, 2018, 2034, 2042, 2043, 2048, 2051, 2089, 2090, 2103, 2104, 2135, 2138]\n",
            "real ['Tomorrow April 6 we will pass 10000 coronavirus deaths. We passed 5000 on April 2. We passed 1000 on March 26. We passed 100 on March 18.']\n",
            "real ['Breathlessness excessive fatigue and muscle aches from COVID can last for months. https://t.co/OUhBRirKpE']\n",
            "real ['Everyone can help prevent spread of #COVID19. Clara the #Coronavirus Self-Checker can help you decide when to call your doctor if you are feeling sick. Start using Clara here: https://t.co/5FnxlOcZpu. https://t.co/dYNwHAgEQi']\n",
            "real ['EMA endorses the use of dexamethasone for COVID-19. https://t.co/RKPH74Hz3W']\n",
            "fake ['Claim: India will have no new #COVID19 cases by May 16: V.K. Paul of COVID-19 Empowered Group 1 on April 24. Fact: India has reported &gt;3000 new cases every day for a week. Today May 16 it has reported 3970 new cases https://t.co/OMc4oU8If9']\n",
            "fake ['The Global #dietarysupplements market is anticipated to grow at a #CAGR of around 7.50% during 2020-25. \\nCheck the full report:- https://t.co/71J6LqCvgr\\n\\n#food #beverage #marketresearch #marketstrategy #USA #animalhusbandry #covid_19 #kerrygroup #nutrients #Immunity #Energy https://t.co/XPFXA1zzo7']\n",
            "real ['The UN estimates those Yemenis who contract #coronavirus are dying in record numbers. Chief Executive of the Disasters Emergency Committee Saleh Saeed joins #Breakfast to discuss. 🕤 0730 📺 Channel 501 📱 Watch live: https://t.co/IhbWCNQJML https://t.co/uvcWbzfZv6']\n",
            "real ['RT @CDCDirector: Teachers &amp; School Staff: We are not defenseless against #COVID19. Once your school reopens remind students to: - Wash han…']\n",
            "fake ['.@realdonaldtrump cherry-picked one stat to prove that the US is doing better than most countries in the #COVID19 fight. Other key measures show the opposite. See the charts. https://t.co/JY6Ojd1G7Y']\n",
            "fake ['The 2005 study found that chloroquine was effective on primate cells with severe acute respiratory syndrome. But while the two share similarities SARS-CoV and COVID-19 are different diseases and primate cells are far from human patients. https://t.co/ryiVuPdNSS']\n",
            "real ['If you aren’t able to test people the infection is spreading blindly.” The chairman of the British Medical Association Dr Chaand Nagpaul says doctors want an “effective test and trace system” to prevent a second wave of #coronavirus. #KayBurley: https://t.co/C5rHb4KKxV https://t.co/hAUAAdvqY9']\n",
            "fake ['23 new COVID-19 cases confirmed in Mombasa.']\n",
            "real [\"RT @MoHFW_INDIA: #IndiaFightsCorona Kudos to India's frontline health workers! The country achieves record high of 101468 #COVID19 RECO…\"]\n",
            "real [\"Yemen is currently suffering from three emergencies - the war the hunger and the #coronavirus.' Disasters Emergency Committee's Saleh Saeed says 1 in 4 people who contract #COVID19 in Yemen die - one of the highest death rates in the world. https://t.co/EGxh9lRg15 #Breakfast https://t.co/yHkLH8E8ue\"]\n",
            "fake ['???North Carolina & Virginia State line is closed. Nothing in or out.\"']\n",
            "fake ['“Nearly half of (Missouri) counties have not reported positive (COVID-19) cases.”']\n",
            "real ['What makes Brazil the ideal testing ground for COVID-19 vaccines. https://t.co/PfkULdNdff']\n",
            "real ['#COVID Symptoms: Watch for fever cough and shortness of breath. https://t.co/37hDZLCMic']\n",
            "fake ['President Trump claimed that new cases of COVID-19 are increasing “only” because of more testing but the spike in cases far exceeds the increase in testing. https://t.co/MNhLeQYKh3']\n",
            "real [\"The leader of the UK's six million trade union members is demanding an extension of the #COVID19 furlough scheme to prevent 'a tsunami of job losses' https://t.co/b5FBtnRijQ\"]\n",
            "fake ['@SueSensus @SuzanneEvans1 @MattHancock The reason the NHS is refusing to treat vulnerable people with cheap, readily available life-saving medication in the midst of a pandemic, is because it is a vehicle for social control, not a health service. Chloroquine was an OTC drug in UK prior to the COVID.']\n",
            "fake ['The total number of deaths in Brazil decreased rather than increased when we compare 2019 to 2020.']\n",
            "real [\"Rushed #COVID19 papers: 'Interpret with caution' says @JCO_ASCO. https://t.co/aT5KI0vJAp https://t.co/R2Z1E6AgNj\"]\n",
            "fake ['Israel applied \"vertical lockdown\" (younger not at risk people are allowed to carry on their daily routines) and has the lowest death rate for COVID-19 in the world.']\n",
            "real ['Wearing a mask has been shown to increase allergic contact dermatitis. Reasons explained in this newly updated reference. https://t.co/KrareYS7EX https://t.co/bi8p1fr7Eu']\n",
            "real ['RT @imperialcollege: @FraserNelson No Imperial model points to 85000 deaths in Sweden. This cites work by other researchers. Imperial had…']\n",
            "fake ['The N95 respirator offers the most protection against viral particles for the wearer. But other masks are effective in reducing the reach of COVID-19 because they help stop asymptomatic individuals from unknowingly spreading the disease. https://t.co/WON66S3OKT']\n",
            "fake ['An article from April announcing a new study “connects” the flu vaccine and an increased risk of coronavirus is based on data from 2017-18 and doesn’t include COVID-19. https://t.co/sIh5mE3hdP']\n",
            "real ['Harvard and MIT scientists self-administered a DIY #covid vaccine without FDA authorization. https://t.co/CSWL2b4G23 https://t.co/HK3hPcwUNx']\n",
            "fake ['Retirees may face new assets test, as Govt considers proposal to cut age pension for some']\n",
            "fake ['Visit a hospital if you are experiencing cough, high fever']\n",
            "fake ['In objection to WA\\'s border closures @CliveFPalmer has drawn a comparison between #COVID19 and hepatitis B which he says results in \"thousands of deaths every year\". But one expert has called that comparison \"ridiculous\". Here\\'s why: https://t.co/XLvJXvmvQn #coronacheck https://t.co/9qJZ697VLv']\n",
            "fake ['@3GHtweets Which indicate that the S1-S2 was a failed design attempt (netOgly was used to design the peptide to preserve the conserved S1-S2 site for betacoronaviruses, but since it was an in-silico process it did not play out in the real protein, and it ended up disrupting the residues']\n",
            "real ['RT @WHO: All over the 🌎🌍🌏 #healthworkers are fighting day and night to keep us safe from the #COVID19! Take a minute today to say: #Thank…']\n",
            "fake ['Highest cases &amp; highest deaths in a day in #Pakistan. Total cases crossed 50,000. Ease of lockdown was to keep economy wheel rolling but we have taken it as #CoronaInPakistan ended. Everyone needs to understand before its too late that #COVIDー19 is a harsh reality. \\nTake Care 🙏 https://t.co/ItDuhAnyhL']\n",
            "fake ['Prof. Rai, The Principal Investigator of the Covid-19 vaccine trial at Community Medicine and AIIMS, announced that phase II trials for Covaxin will be completed by October and will move to phase III soon (after trials).']\n",
            "real ['RT @NIOSH: As a bank employer your workers could be exposed to the virus that causes #COVID19 while doing their job. New information from…']\n",
            "real ['How deadly is the coronavirus #COVID19? Scientists are close to an answer @nresearchnews Infection fatality rate explained by Robert Verity @MRC_Outbreak and Timothy Russell @LSHTM https://t.co/9lw9RSXnnd']\n",
            "real ['Q: How do I clean fruits and vegetables during #COVID19? A: • Do NOT wash produce with soap disinfectant or any other chemical. • Rinse fruits and vegetables under cold running tap water. • Scrub uncut firm produce with a clean brush. https://t.co/h6bNriqVop https://t.co/UePnhL9znm']\n",
            "real ['The outbreak of #COVID19 #CoronaVirus is now declared a #Pandemic by the @WHO https://t.co/kYCw20gc83']\n",
            "real ['Health officials have issued an urgent plea to stop the public going to the \"very busy\" Royal Bolton Hospital A&amp;E department in the hope of getting COVID-19 tests https://t.co/wQjJdbL870']\n",
            "fake ['#FactCheck: Is #mouthwash proving to be effective against #Coronavirus? Researchers surely have found encouraging results. NOTE: Mouthwash is not a cure but it still can help. Read details here https://t.co/SJK0rzMWwu https://t.co/rioVdCjwjg']\n",
            "real ['RT @imperialcollege: Neil Ferguson and Imperial did not produce a model for Sweden pointing to 85000 deaths https://t.co/SlNIT8FQtJ']\n",
            "fake ['??�If you line up all the countries that have done (Covid-19) testing on a per-capita basis, we???re at the bottom of the list.??�']\n",
            "fake ['Bill Gates uses COVID-19 to implement the ID2020 chip and monitor the world.']\n",
            "fake ['Concerned about survival, \\nplease try to avoid traveling through flight, metro, where all gate and window closed,\\n Government should take respective measures for safety of people against such incidents,👍\\n#corona #PTI #flight #COVID19 #indigo #airline #metro https://t.co/VPXfqy6rpi']\n",
            "fake ['Lockdown in MP again due to rise in covid cases']\n",
            "fake ['Health officials caution against the use of chloroquine or hydroxychloroquine to treat COVID-19 patients citing the possibility of serious side effects. There are currently no approved treatments for the virus. https://t.co/ryiVuPdNSS']\n",
            "real ['FDA chief @SteveFDA rejects the president’s implication that the agency is delaying a #coronavirus vaccine. https://t.co/xKegzc7DuU https://t.co/szuQqP7fqU']\n",
            "fake ['How has alcohol consumption changed during lockdown? Read our latest #CPD article for more information on how drinking habits have changed during the pandemic and the short-term and long-term effects of alcohol misuse\\n@Drinkaware @AlcoholChangeUK \\n\\nhttps://t.co/jNV645L7Il https://t.co/gGpNZShIPl']\n",
            "real ['#COVID19 mortality rate in Black Americans is 4x that of white double what the CDC reports. https://t.co/NpIbIrUQGk https://t.co/Xt9OftD3AG']\n",
            "real ['As for the Russian COVID vaccine Fauci is among the doubters. https://t.co/ged4pZv475']\n",
            "real ['There are 12 States/UTs with a #RecoveryRate &gt;70%. These are: ▪️ #Bihar (70.40%) ▪️ #Gujarat (70.72%) ▪️ #HimachalPradesh (74.21%) ▪️ #MadhyaPradesh (74.85%) ▪️ #Haryana (74.91%) ▪️ #Tripura (75.34%) ▪️ #Rajahthan (75.65%) ▪️ #Delhi (76.81%) ▪️ #Chandigarh (77.07%) https://t.co/kl6z3VBYTY']\n",
            "real [\"Coronavirus: Company behind 15-minute antigen test says it's a 'game changer' https://t.co/HcT53xhdAH\"]\n",
            "real ['RT @ROBChandigarh: Our Mobile van passing through Tilak Nagar Rohtak #Haryana creating awareness on #COVID19 Appropriate behaviours among…']\n",
            "fake ['#VitaminD is now in focus to prevent #Coronavirus . Know if your body has enough of it. https://t.co/OFWcLha5ef']\n",
            "real [\"The transmission of coronavirus in Europe has returned to 'alarming rates' this month says a top official at the World Health Organisation https://t.co/nXAoi8LDzR\"]\n",
            "fake ['Coronavirus patients develop lung fibrosis but you can diagnose by holding your breath.']\n",
            "fake ['if we test aggressively test through RT PCR, TRUENAT,ANTIGEN tests Definitely KA cross 1.5lac COVID 19 +ve cases..Still Our @MoHFW_INDIA updating \"Invisible data\\'s\"..! At least 10m We should struggle With COVID 19..!! @csogok @mla_sudhakar @drashwathcn https://t.co/ycGqlY8Le3']\n",
            "real ['Govt. of Nigeria is restricting entry into the country for travellers from: China Italy Iran South Korea Spain Japan France Germany United States of America Norway United Kingdom Netherlands &amp; Switzerland These are countries with &gt; 1000 cases domestically']\n",
            "real ['Noel Gallagher says he refuses to wear a face mask while shopping as he goes against laws brought in during the pandemic to curb the spread of #coronavirus https://t.co/HkXZMeyeh6']\n",
            "real ['NEJM letter says saliva test as good or better than nasal swab for COVID test. https://t.co/k3ienp4iiO']\n",
            "fake ['#COVID19 इस हफ़्ते हमारे देश में आँकड़ा 10,00,000 पार कर जाएगा। This week we will cross 1 million.\\n\\nhttps://t.co/ZttBYzPabl']\n",
            "fake ['#Coronavirus Update: Continuous screening of passengers coming from China, Hong Kong, Singapore & Thailand is being done at #KolkataAirport at four dedicated aerobridges with health check-up facilities.']\n",
            "real ['RT @CDCDirector: Wear your mask when you’re in public! Face masks are one of the most powerful weapons we have in the fight against #COVID1…']\n",
            "fake ['Navigating immunosuppression during the pandemic continues to challenge patients and providers. Thanks to the Medical Dermatology Society and Society of Dermatology Hospitalists, here is an article to help navigate these difficult decisions. https://t.co/Xg4NTCwML9 https://t.co/vW8zvceTus']\n",
            "fake [\"When WWN is not bringing you the latest on Covid-19, it will be bringing you The Distraction Zone.\\n\\nSave, bookmark and ignore social distancing to keep close to the following link as each day we'll bring you necessary non-news news:\\n\\nhttps://t.co/8MQCHs3fqk\"]\n",
            "real ['🚨 59 hand sanitizers are too toxic to use safely. https://t.co/o4Kx2wsUdH via @WebMD']\n",
            "real ['Newly updated information on HCQ for coronavirus. https://t.co/QzVEzHtI7r https://t.co/hq0eU6MrZh']\n",
            "fake ['Schizophrenics reach out to themselves https://t.co/jW18ztNAIi #whitehouse #psychology #covid19 #schizophrenia']\n",
            "real ['Noel Gallagher says he refuses to wear a face mask while shopping as he goes against laws brought in during the pandemic to curb the spread of #coronavirus https://t.co/sPp08WBRfO']\n",
            "real ['Protocols included: \\u2063 -Undertaking a test for COVID-19 \\u2063 -Travelling directly from the facility to agreed address without leaving vehicle -Wearing PPE including gloves and masks when spending time with the family member that is dying.\\u2063']\n",
            "real ['#ZuckOff #TakeItFromADoctor and a video with false claims on mask wearing and #hydroxychloroquine. https://t.co/0WH13B5iqT https://t.co/04eETBikNd']\n",
            "real ['Hollywood actor Paul Rudd has encouraged young people to wear face masks in an entertaining video as the US grapples with the #COVID19 pandemic https://t.co/0uEqyLlCna']\n",
            "real ['All the reasons minority populations are at higher risk for coronavirus. https://t.co/Fv9dNXmQ9u via @drjohnwhyte @UREssien #InContext https://t.co/9a6F0T0Zxg']\n",
            "real ['RT @DrTedros: Nearly 5000 lives are lost each day due to #COVID19 and the global economy is expected to contract by trillions of dollars t…']\n",
            "fake [\"#Covaxin, India's indigenous #Covid19 vaccine is developed by @BharatBiotech in collaboration with @icmr_niv. Preclinical studies with small and large animals successfully completed. Phase 1 human clinical trial completed. Phase 2 human clinical trial ongoing.\"]\n",
            "fake ['#coronavirus is not becoming weak. @WHO did not issue any such statement. Read our #FactCheck here. https://t.co/GI4PakNI3D']\n",
            "real ['This sounds like lot of money and it is. But it’s small in comparison to the 10 trillion dollars that have already been invested by @g20org countries in fiscal stimulus to deal with the consequences of the #COVID19 pandemic so far-@DrTedros https://t.co/ChJzYltMXA']\n",
            "real ['A rare case of transverse myelitis may be linked to the vaccine. https://t.co/BlwFmYCV3W']\n",
            "real ['The Bossle family circus has been hit especially hard by the pandemic stranded in the Netherlands since March. Read about the impact of the pandemic on circus and other performers in the @washingtonpost: https://t.co/qPjM4nHojL']\n",
            "real [\"Actor Paul Rudd pleads with 'millennials' to wear a face mask in order to prevent the spread of #coronavirus and save lives. Get more on this story here: https://t.co/X9HmGOlXMz https://t.co/O777nMMNUN\"]\n",
            "real ['Black Americans are hospitalized for coronavirus at 4x the rate of White Americans. https://t.co/NNITwiUhmM https://t.co/ESLcaQweIU']\n",
            "real ['The U.S. has surpassed over 1 million confirmed cases of coronavirus according to data compiled by John Hopkins University https://t.co/KOidmKuxic']\n",
            "fake ['With the void of leadership in the White House, governors across the country have stepped up to meet this moment. This afternoon, I’ll be joined by a few of them for a roundtable discussion on COVID-19. \\n\\nTune in at 3:30 PM ET to watch: https://t.co/xk0GcS7PGq https://t.co/1EONVfE0pk']\n",
            "real ['There are now 33 retracted #COVID papers. https://t.co/1i23JMdAcC']\n",
            "real ['Social distancing results in record low flu numbers. https://t.co/W602GLAlxH https://t.co/BIj9tfzXlS']\n",
            "real ['Still not enough proof that convalescent plasma works with COVID-19. https://t.co/CJk2tklGqq']\n",
            "real ['#IndiaFightsCorona: 📍 Epidemic diseases (amendment) ordinance 2020 ➡️ Attacks on doctors and health workers now a grave offence ➡️ A jail term term of up to 7 years and fine upto Rs 5 lakh ➡️ Cases to be investigated within 30 days and verdict within a year #StaySafe https://t.co/1rgx4JM1yr']\n",
            "fake ['How South Korea Successfully Managed Coronavirus\\nhttps://t.co/ImojhnSrgm\\nThe nation fast-tracked approval of domestic testing kits as soon as cases began hitting.']\n",
            "fake ['Sources confirm COVID 19 Vaccine Needs at least 6 to 10m for Clinical Trials on more than 5000 But @ICMR Choosing only 1100 +ve Patients &amp; Eager to complete Before August 15,2020 means...? https://t.co/7X8fUIMAcb https://t.co/X6Fu7Pk4oB']\n",
            "real ['Hepatitis C drugs show promise against the #coronavirus but clinical trials must confirm. https://t.co/Ormd96du6D https://t.co/aYp5ysCVeD']\n",
            "real ['Should doctors be free from #malpractice lawsuits stemming from delayed treatments as result of #COVID? https://t.co/pzlWBfUred']\n",
            "fake ['OMS says people infected with COVID-19 without symptons do not transmit the disease.']\n",
            "real ['Reported deaths were again over 2000 today. https://t.co/tWmhy2T93d']\n",
            "real ['Even asymptomatic carriers can show evidence of #coronavirus in their stool. https://t.co/VSJJThQRvv']\n",
            "real ['RT @Surgeon_General: Say it with me America: #COVIDStopsWithMe. #COVID19 https://t.co/9Twwxt6hPp']\n",
            "fake [\"The rate of coronavirus-related deaths being reported out of New York City is 200 times higher than the death rates of the world's largest 10 cities.\"]\n",
            "real ['We could see 100K #coronavirus cases a day Fauci says at Senate hearing. https://t.co/3oVjbEnn3f']\n",
            "fake ['Children do contract the coronavirus but current research shows it is happening at a much lower rate than for adults. https://t.co/GW4aSvUOst']\n",
            "real [\"The leader of the UK's six million trade union members is demanding an extension of the #COVID19 furlough scheme to prevent 'a tsunami of job losses' https://t.co/ZUkEU7K2D5\"]\n",
            "fake ['PM @ScottMorrisonMP recently said a #COVID19 vaccine would be \"as mandatory as you can possibly make it\". But what does that mean? Experts we spoke to said it was unlikely the vaccination could be forced upon the population in Australia. Here\\'s why: https://t.co/8axB6BPplC https://t.co/tb5CpYQiIr']\n",
            "fake ['NEWS! Government unveils masterplan to avoid second wave of Coronavirus by staying firmly stuck in the first one https://t.co/cGMOB1UGN3 https://t.co/7OkoaaEYiy']\n",
            "fake ['process has asked sbi and business oil prices were relaxed during lockdown are rapidly increasing number of cbse central teachers eligibility test july this segment of secondary education is coronil']\n",
            "fake ['With over 14000 new infections recorded India’s total confirmed cases cross 4.25 lakh. Union Home Minister Amit Shah directs Delhi government to report all deaths to the Centre and demarcate containment zones afresh. #COVID19 #CoronavirusFacts https://t.co/18ciZrjsNo']\n",
            "fake ['Public health authorities deploy 5,000 emotionally absent fathers to teach public about social distancing #Covid_19 #CoronavirusPandemic']\n",
            "fake ['Why banks are open daily, they should be open in alternate days for, stoping people and becoz one of reason is #corona and 2nd people are not following social distancing\\n@nsitharaman @narendramodi @AamAadmiParty @ArvindKejriwal @aajtak \\n#lockdownextension #bankerhaipolicenahi']\n",
            "real ['Turns out the NHS cannot make a better COVID tracking app than Google or Apple. https://t.co/fUqBumux30 https://t.co/YHPeb4E0Ax']\n",
            "real ['Children are not immune to the #coronavirus. https://t.co/xA8tVVMTYU']\n",
            "fake ['A @Target spokesperson said the company plans to continue “Heroes &amp; Helpers” an event that pairs underserved children with officers to shop for holiday gifts. The company says careful considerations are underway on how to manage the event amid COVID-19. https://t.co/WdHJ3zkMQn']\n",
            "fake ['At this Critical Scenario We need full fledged 25 teams of 100 lab technicians under 2 MicroBiologists (for Virtual Administration) needed. Train All Graduate teachers of KA to test COVID 19 Samples We can do this ..@BSYBJP @mla_sudhakar @csogok @ChangeOrg_India @narendramodi https://t.co/EV2r2fOkeh']\n",
            "real ['There have now been 25 COVID-19 related deaths in New Zealand. Our thoughts are with this man’s family and friends during this difficult time as they mourn the loss of their loved one. They have requested privacy as they grieve and we ask that is respected.']\n",
            "real ['Get updates on #COVID19 by listening to your state and local authorities and CDC. Stay informed but avoid too much news on the pandemic. #Takebreaks from the news and social media. https://t.co/Xf3wah2G31 https://t.co/twuuxL0YZn']\n",
            "real ['She has been travelling with her siblings and mother who have all tested negative at this stage. Her only symptom was a runny nose. She flew from Pakistan via Doha to Melbourne then Auckland.']\n",
            "real ['Weighing risk vs reward on human challenge trials for coronavirus vaccine. https://t.co/5suYDGbpyK ⚖️']\n",
            "fake ['Commonly used drugs hydroxychloroquine and chloroquine should be safe in trials to prevent COVID-19, an @NIHRresearch-supported study has reported. Read more: https://t.co/JZCYEKqn94 #prioritycovidresearch https://t.co/h1Gkuvtl4w']\n",
            "real [\"RT @RidgeOnSunday: 'We need to act very quickly to stop #COVID19 growing exponentially' says @p_openshaw Professor of Experimental Medici…\"]\n",
            "real ['RT @Surgeon_General: DYK: #COVID19 can present in a variety of ways including: Fever/ chills Cough Shortness of breath Fatigue Muscle/ bo…']\n",
            "real ['What autopsies are revealing about the devastating effects of coronavirus on the body. https://t.co/2WMKvK8Pfe']\n",
            "real ['@CAALKESHKASLIWA @ICMRDELHI #COVID_19 treatment in all Govt. Dedicated #COVID hospitals is free of cost. For 50 crore beneficiaries of Ayushman Bharat Pradhan Mantri Jan Arogya Yojana can avail free testing and treatment for #COVID19 in empanelled private labs/hospitals.']\n",
            "real [\"If you only read three stories... 🔴 PM to announce new COVID measures including restaurant curfew https://t.co/9BmKNjdaJo 🔴 People who get flu and COVID in 'trouble' - health expert https://t.co/bE1wi3so4e 🔴 John Lennon's killer apologises to widow https://t.co/TvuCP7j2Dn https://t.co/WMy7WJLb2K\"]\n",
            "fake ['3/3 ... at the start was reasonably necessary\" \"But it\\'s much more difficult now the huge numbers of coronavirus cases have reduced significantly and there\\'s little commun\\xadity transmission … to argue you still need those borders shut.\" Quote source: https://t.co/NQ7fSUVUwQ']\n",
            "fake ['See the hand sanitizer which he used for self protection from pandemic novel #CoronaVirus\\n\\n#CoronaUpdate https://t.co/AqiclMXGPD']\n",
            "fake ['The number of deaths from respiratory illnesses in Ireland this year is comparable to previous years and COVID-19 is not causing any more deaths than would usually be happening']\n",
            "real ['What would the PM say to those who are being asked to abide by COVID rules who may be feeling that if the government can break the law why can\\'t they?\\' - Labour\\'s Catherine McKinnell PM says force of law is being used as the virus is \"gaining ground\". https://t.co/jM1wh1X9dF https://t.co/8agUPn8a6e']\n",
            "real ['Coronavirus: Horror fans coping better with pandemic according to research https://t.co/wNkbXRC4tL']\n",
            "real ['Coronavirus: Unemployment rate climbs as pandemic takes toll https://t.co/4ZSrP1FkbK']\n",
            "real ['@CryptoWalter_ There is a provision Rs. 50 lakhs as insurance under PM Garib Kalyan Package to the family of a frontline healthcare worker who passed away due to #COVID19: https://t.co/7ugCXToQO8']\n",
            "fake [\"Have you wanted to make a difference during the pandemic but not sure how to safely go about it?\\nCollect or donate items/certificates for our Apocalypse Meow Auction!\\nThis is an important part of our yearly fundraising to keep the Abby's Fund Health Care Grants available. https://t.co/zeWqC31b6d\"]\n",
            "fake ['Doug Ford reveals Stage 3 has no plan to re-open schools, but will lower drinking age to 8 #onpoli COVID19 https://t.co/Be3ab2xQVH https://t.co/LlJ1a8Im44']\n",
            "fake ['It’s being reported that NC DHHS is telling hospitals that if they decide to do elective surgeries, they won’t be eligible to receive PPE from the state. The heavy hand of government. I hope Secretary Cohen will reverse course. #NCDHHS #COVID19NC #ncpol']\n",
            "fake [\"???The (COVID-19) cases are going up, but it's because the testing is going up.??�\"]\n",
            "real ['RT @DrKhabbazCDC: In a new study @CDCgov pathologists found that the virus that causes #COVID19 lodges itself deep in the lungs and also a…']\n",
            "fake ['???Nearly half of (Missouri) counties have not reported positive (COVID-19) cases.??�']\n",
            "real ['All over the 🌎🌍🌏 #healthworkers are fighting day and night to keep us safe from the #COVID19! Take a minute today to say: #ThanksHealthHeroes! https://t.co/IBEEfHuzz7']\n",
            "fake [\"If you maintain social distancing indoors there's no reason to have an additional mask on top of that.\"]\n",
            "real ['Male security guards are at the highest risk for coronavirus new report says. https://t.co/MLAN25fCQZ https://t.co/Wka1RxJY2O']\n",
            "fake ['Professor Chris Whitty reminds the public the coronavirus does not respect age, gender, geographical boundaries or Harry Styles’ hopes of becoming a serious artiste https://t.co/oLqOGhiBeQ']\n",
            "real ['The goal of the mechanism is to deliver at least 2 billion doses of safe effective vaccines by the end of 2021. As governments invest trillions into economic stimulus the COVAX Facility offers a huge return on investment.-@DrTedros #COVID19 https://t.co/OxSQ9IHPbl']\n",
            "real ['“The government is getting this wrong they have not spent this summer as they should have done ramping up testing capacity.” Shadow minister @SteveReedMP says the reason for more local lockdowns is because of “government incompetence”. #KayBurley: https://t.co/apswxjCfGw https://t.co/k3DsTYFAEg']\n",
            "fake ['“Due to the large number of people who will refuse the forthcoming COVID-19 vaccine because it will include tracking microchips the Gates Foundation is now spending billions to ensure that all medical and dental injections and procedures include the chips.”']\n",
            "fake ['Unions like @GoIUPAT are supporting their workers and communities during this pandemic. To build a stronger, more inclusive, and more resilient middle class after this crisis, we must encourage unionization. That starts with enacting the PRO Act. https://t.co/JbZbXnGHfx']\n",
            "fake ['Children in Oregon may be taken away if their parent or legal guardian tests positive for COVID-19.']\n",
            "fake ['U.S. nears 2.7 million total COVID-19 cases 130000 deaths https://t.co/qfRhC9joES']\n",
            "real [\"Coronavirus: Slovenia and Guadeloupe added to UK's quarantine list - but Thailand and Singapore removed https://t.co/O64TtmzkIp\"]\n",
            "real [\"Here's some of the windows at the Jet Park in Hamilton. Our young people who have recently returned to New Zealand have been keeping themselves busy with a little competition to see who can decorate their windows the best each day. https://t.co/kYUFCEy692\"]\n",
            "fake [\"Singapore's Health ministry issued an advisory about the day-to-day progression of COVID-19 symptoms in patients during the first nine days of infection.\"]\n",
            "real ['Are kids with #COVID more contagious than adults? @methodsmanmd explores the viral load. https://t.co/8hGqlW0JK6 https://t.co/nglXfvsyJg']\n",
            "real ['@04051952n This provision of CGHS card being valid for availing facilities from any CGHS Wellness Centre in India is not just for #COVID19 but for other diseases as well as mentioned in the CGHS document in the earlier tweet.']\n",
            "fake ['All Missouri businesses can open Monday May 4 under our new Order as long as new guidelines are followed.']\n",
            "fake ['Hello @Thyrocare team, is COVID-19 test done at your lab not acceptable due to ban imposed by BMC? Can you please clarify if the ban been uplifted by BMC?']\n",
            "real ['The UK government says it has responded well to the coronavirus pandemic. There is plenty of evidence to the contrary. https://t.co/Rzctmeowo4']\n",
            "fake [\"Victoria has received a lot of attention for extending its state of emergency. But it's the only state which needs to go to Parliament to do so. Other states have been quietly extending theirs with no parliamentary scrutiny: https://t.co/ljSZwObpsR #auspol #coronavirusFacts https://t.co/jDWBWgxp4E\"]\n",
            "fake ['From June 26 Taipei Veterans General Hospital implements strict access control including a ban on patients visits. The local transmission in Taiwan is worse than what the Taiwan health ministry reported.']\n",
            "fake ['Donald Trump wrongly claimed that New Zealand had a “big surge” in COVID-19 cases on a day when the country reported nine new cases. The U.S. has reported more than 50000 new cases per day for most of July and August. https://t.co/y3QsWUj23I']\n",
            "fake ['Birx says COVID-19 outbreak not under control because ‘people are on the move’ https://t.co/YFqi6f7Rvj']\n"
          ],
          "name": "stdout"
        }
      ]
    },
    {
      "cell_type": "code",
      "metadata": {
        "id": "oZwPU6gjIMUg"
      },
      "source": [
        ""
      ],
      "execution_count": null,
      "outputs": []
    },
    {
      "cell_type": "markdown",
      "metadata": {
        "id": "kUjqZvykMRNd"
      },
      "source": [
        "Many Tweets had URLs, on inspection -\n",
        "\n",
        "* images or videos attached came as url on opening it takes you to the tweet\n",
        "* many tweets had 2 urls, 1 had tweet image/video other had an article outside twitter(news,blog etc)\n",
        "* In a lot of cases truth of tweet is determined by the url example fake - 57, 28, real - 67    \n",
        "\n",
        "Also among the misclassified tweets i decided to search with keywords. Searching for Virus found 3 misclassified all are real classified as fake. There are other similar keywords mainly breath, cough, symptoms along with covid.  \n",
        "When searching for similar tweets in the dataset i found lot of fake tweets talking about breath test which had similar keywords. Where as, lot of real tweets had the keyword mask in it. combination of these words without context is causing the issue.  "
      ]
    },
    {
      "cell_type": "code",
      "metadata": {
        "id": "uT7z-QQUMXAQ"
      },
      "source": [
        ""
      ],
      "execution_count": null,
      "outputs": []
    }
  ]
}